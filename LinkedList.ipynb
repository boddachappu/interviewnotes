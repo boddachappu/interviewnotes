{
 "cells": [
  {
   "cell_type": "markdown",
   "metadata": {},
   "source": [
    "# Linked List\n",
    "## Inserting & Deleting at Start, End and Middle"
   ]
  },
  {
   "cell_type": "code",
   "execution_count": 3,
   "metadata": {},
   "outputs": [
    {
     "name": "stdout",
     "output_type": "stream",
     "text": [
      "baczd\n",
      "5\n",
      "found data in linked list\n",
      "delete node at start :  aczd\n",
      "delete node at end :  acz\n",
      "delete particular node :  ac\n"
     ]
    }
   ],
   "source": [
    "class Node():\n",
    "    def __init__(self,data=None,ponter=None):\n",
    "        self.data = data\n",
    "        self.pointer = ponter\n",
    "    \n",
    "    def getData(self):\n",
    "        return self.data\n",
    "    \n",
    "    def getPointer(self):\n",
    "        return self.pointer\n",
    "    \n",
    "    def setPointer(self,new_ponter):\n",
    "        self.pointer = new_ponter\n",
    "        \n",
    "class LinkedList():\n",
    "    def __init__(self, head=None):\n",
    "        self.head = head\n",
    "    \n",
    "    def insertAtStart(self,data):\n",
    "        new_node = Node(data)\n",
    "        new_node.setPointer(self.head)\n",
    "        self.head = new_node\n",
    "        \n",
    "    def insertAtEnd(self,data):\n",
    "        current = self.head\n",
    "        if current:\n",
    "            while current.pointer != None:\n",
    "                current = current.getPointer()\n",
    "            current.setPointer(Node(data))\n",
    "    \n",
    "    def search(self,data):\n",
    "        current = self.head\n",
    "        if current:\n",
    "            try:\n",
    "                while current.data != data:\n",
    "                    current = current.getPointer()\n",
    "                return 'found data in linked list'\n",
    "            except:\n",
    "                return 'Not found data in linked list'\n",
    "    \n",
    "    def display(self):\n",
    "        s = ''\n",
    "        p = self.head\n",
    "        if p:\n",
    "            while p.pointer != None:\n",
    "                s += p.data\n",
    "                p = p.getPointer()\n",
    "            s += p.data\n",
    "        return s\n",
    "    \n",
    "    def linkedlistlen(self):\n",
    "        current = self.head\n",
    "        count = 0\n",
    "        if current:\n",
    "            while current.pointer != None:\n",
    "                count+=1\n",
    "                current = current.getPointer()\n",
    "            count +=1\n",
    "        return count\n",
    "    \n",
    "    def insertmiddle(self,data_insert,data):\n",
    "        current = self.head\n",
    "        while current.getData() != data_insert:\n",
    "            current = current.getPointer()\n",
    "        swapaddress = current.getPointer()\n",
    "        new_node = Node(data)\n",
    "        new_node.setPointer(swapaddress)\n",
    "        current.setPointer(new_node)\n",
    "    \n",
    "    def deletestart(self):\n",
    "        if self.head != None:\n",
    "            current = self.head\n",
    "            self.head = current.getPointer()\n",
    "            \n",
    "    def deleteend(self):\n",
    "        current = self.head\n",
    "        if current:\n",
    "            while current.pointer != None:\n",
    "                prev_add = current\n",
    "                current = current.getPointer()\n",
    "            prev_add.pointer = current.getPointer()\n",
    "    \n",
    "    def delete_data(self,data):\n",
    "        current = self.head\n",
    "        if current:\n",
    "            while current.getData() != data:\n",
    "                prev_add = current\n",
    "                current = current.getPointer()\n",
    "                \n",
    "            prev_add.pointer = current.pointer\n",
    "            \n",
    "        \n",
    "    \n",
    "l = LinkedList()\n",
    "l.insertAtStart('a')\n",
    "l.insertAtStart('b')\n",
    "l.insertAtEnd('c')\n",
    "l.insertAtEnd('d')\n",
    "l.insertmiddle('c','z')\n",
    "print(l.display())\n",
    "print(l.linkedlistlen())\n",
    "print(l.search('z'))\n",
    "l.deletestart()\n",
    "print('delete node at start : ',l.display())\n",
    "l.deleteend()\n",
    "print('delete node at end : ',l.display())\n",
    "l.delete_data('z')\n",
    "print('delete particular node : ',l.display())\n",
    "\n",
    "\n",
    "\n"
   ]
  },
  {
   "cell_type": "markdown",
   "metadata": {},
   "source": [
    "# Class and Static methods"
   ]
  },
  {
   "cell_type": "code",
   "execution_count": 2,
   "metadata": {},
   "outputs": [
    {
     "name": "stdout",
     "output_type": "stream",
     "text": [
      "Test - franchise\n",
      " Amazon, total stock price : 120\n"
     ]
    }
   ],
   "source": [
    "class Store:\n",
    "    def __init__(self, name):\n",
    "        self.name = name\n",
    "        self.items = []\n",
    "\n",
    "    def add_item(self, name, price):\n",
    "        self.items.append({\n",
    "            'name': name,\n",
    "            'price': price\n",
    "        })\n",
    "\n",
    "    def stock_price(self):\n",
    "        total = 0\n",
    "        for item in self.items:\n",
    "            total += item['price']\n",
    "        return total\n",
    "\n",
    "    @classmethod\n",
    "    def franchise(cls, store):\n",
    "        # Return another store, with the same name as the argument's name, plus \" - franchise\"\n",
    "        return cls(store.name+\" - franchise\")\n",
    "\n",
    "    @staticmethod\n",
    "    def store_details(store):\n",
    "        # Return a string representing the argument\n",
    "        # It should be in the format 'NAME, total stock price: TOTAL'\n",
    "        return \" {}, total stock price : {}\".format(store.name, int(store.stock_price()))\n",
    "\n",
    "store = Store('Amazon')\n",
    "store2 = Store('Test')\n",
    "store.add_item('abc',120)\n",
    "\n",
    "print(Store.franchise(store2).name)\n",
    "print(Store.store_details(store))\n"
   ]
  },
  {
   "cell_type": "markdown",
   "metadata": {},
   "source": [
    "# Count the no. of palindrome in a string"
   ]
  },
  {
   "cell_type": "code",
   "execution_count": 29,
   "metadata": {},
   "outputs": [
    {
     "data": {
      "text/plain": [
       "['rar', 'ara']"
      ]
     },
     "execution_count": 29,
     "metadata": {},
     "output_type": "execute_result"
    }
   ],
   "source": [
    "DEFAULT_TEXT = \"rara\"\n",
    "def all_palindromes(text=DEFAULT_TEXT):\n",
    "\n",
    "    results = set()\n",
    "    text_length = len(text)\n",
    "    for idx, char in enumerate(text):\n",
    "        # Check for longest odd palindrome(s)\n",
    "        start, end = idx - 1, idx + 1\n",
    "        while start >= 0 and end < text_length and text[start] == text[end]:\n",
    "            results.add(text[start:end+1])\n",
    "            start -= 1\n",
    "            end += 1\n",
    "\n",
    "        # Check for longest even palindrome(s)\n",
    "        start, end = idx, idx + 1\n",
    "        while start >= 0 and end < text_length and text[start] == text[end]:\n",
    "            results.add(text[start:end+1])\n",
    "            start -= 1\n",
    "            end += 1\n",
    "\n",
    "    return list(results)\n",
    "\n",
    "all_palindromes(DEFAULT_TEXT)"
   ]
  },
  {
   "cell_type": "code",
   "execution_count": null,
   "metadata": {},
   "outputs": [],
   "source": []
  }
 ],
 "metadata": {
  "kernelspec": {
   "display_name": "Python 3",
   "language": "python",
   "name": "python3"
  },
  "language_info": {
   "codemirror_mode": {
    "name": "ipython",
    "version": 3
   },
   "file_extension": ".py",
   "mimetype": "text/x-python",
   "name": "python",
   "nbconvert_exporter": "python",
   "pygments_lexer": "ipython3",
   "version": "3.7.3"
  }
 },
 "nbformat": 4,
 "nbformat_minor": 2
}
