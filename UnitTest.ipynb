{
 "cells": [
  {
   "cell_type": "markdown",
   "metadata": {},
   "source": [
    "## unittest \n",
    "run the below code in idle\n",
    "To run particular test case in cmd prompt:python -m unittest unit2.ExampleTest.testname.\n",
    "In general you add all prerequisite steps to setUp and all clean-up steps to tearDown.It will run for every test case.\n",
    "setUpClass and tearDownClass will run only once irrespective of number of test cases."
   ]
  },
  {
   "cell_type": "code",
   "execution_count": null,
   "metadata": {
    "scrolled": true
   },
   "outputs": [],
   "source": [
    "import unittest\n",
    "\n",
    "class Example:\n",
    "    def __init__(self,name,salary):\n",
    "        self.name = name\n",
    "        self.salary = salary\n",
    "        \n",
    "    def display(self):\n",
    "        return (self.name,self.salary)\n",
    "\n",
    "class ExampleTest(unittest.TestCase):\n",
    "    @classmethod\n",
    "    def setUpClass(cls):\n",
    "        print('u r in setup class')\n",
    "    def setUp(self):\n",
    "        print('u r in setup')\n",
    "    ob = Example('vinod',1272000)\n",
    "    def testsalary(self):\n",
    "        self.assertEqual(1272000, self.ob.salary)\n",
    "    def testname(self):\n",
    "        self.assertEqual('vinod', self.ob.name)\n",
    "    @classmethod\n",
    "    def tearDownClass(cls):\n",
    "        print('u r in teardown class')\n",
    "    def tearDown(self):\n",
    "        print('u r in teardown')\n",
    "if __name__ == '__main__':\n",
    "    unittest.main()\n"
   ]
  },
  {
   "cell_type": "code",
   "execution_count": null,
   "metadata": {},
   "outputs": [],
   "source": [
    "import unittest\n",
    "\n",
    "class TestStringMethods(unittest.TestCase):\n",
    "\n",
    "    def setUp(self):\n",
    "        pass\n",
    "\n",
    "    # Returns True if the string contains 4 a.\n",
    "    def test_strings_a(self):\n",
    "        self.assertEqual('a' * 4, 'aaaa')\n",
    "\n",
    "        # Returns True if the string is in upper case.\n",
    "\n",
    "    def test_upper(self):\n",
    "        self.assertEqual('foo'.upper(), 'FOO')\n",
    "\n",
    "        # Returns TRUE if the string is in uppercase\n",
    "\n",
    "    # else returns False.\n",
    "    def test_isupper(self):\n",
    "        self.assertTrue('FOO'.isupper())\n",
    "        self.assertFalse('Foo'.isupper())\n",
    "\n",
    "        # Returns true if the string is stripped and\n",
    "\n",
    "    # matches the given output.\n",
    "    def test_strip(self):\n",
    "        s = 'geeksforgeeks'\n",
    "        self.assertEqual(s.strip('geek'), 'sforgeeks')\n",
    "\n",
    "        # Returns true if the string splits and matches\n",
    "\n",
    "    # the given output.\n",
    "    def test_split(self):\n",
    "        s = 'hello world'\n",
    "        self.assertEqual(s.split(), ['hello', 'world'])\n",
    "        with self.assertRaises(TypeError):\n",
    "            s.split(2)\n",
    "\n",
    "\n",
    "if __name__ == '__main__':\n",
    "    unittest.main()"
   ]
  },
  {
   "cell_type": "markdown",
   "metadata": {},
   "source": [
    "#### Iterator, Custom iterator\n",
    "Iterator :\n",
    "Iterators are python objects which can be iterated upon\n",
    "\n",
    "Python Iterators and the Iterator protocol\n",
    "To create a Python iterator object, you will need to implement two methods in your iterator class.\n",
    "__iter__: This returns the iterator object itself and is used while using the \"for\" and \"in\" keywords.\n",
    "__next__: This returns the next value. This would return the StopIteration error once all the objects have been looped through.\n",
    "\n",
    "https://www.hackerearth.com/practice/python/iterators-and-generators/iterators-and-generators-1/tutorial/"
   ]
  },
  {
   "cell_type": "code",
   "execution_count": 20,
   "metadata": {},
   "outputs": [
    {
     "name": "stdout",
     "output_type": "stream",
     "text": [
      "3\n",
      "4\n"
     ]
    }
   ],
   "source": [
    "class CustomIterator(object):\n",
    "    l = [3,4,5,6,7]\n",
    "    count = -1\n",
    "    \n",
    "    def __iter__(self):\n",
    "        \"\"\"returns the self object to be accessed by the for loop\"\"\"\n",
    "        return self\n",
    "    \n",
    "    def __next__(self):\n",
    "        \"\"\"returns the next emoticon indefinitely\"\"\"\n",
    "        self.count = self.count + 1\n",
    "        if(self.count>len(self.l)-1):\n",
    "            raise StopIteration\n",
    "        return self.l[self.count]\n",
    "\n",
    "        \n",
    "c = CustomIterator()      \n",
    "print(next(c))\n",
    "print(next(c))\n",
    "    \n",
    "    "
   ]
  },
  {
   "cell_type": "markdown",
   "metadata": {},
   "source": [
    "#### Generators(Creation of Iterators by Generators)\n",
    "Generators are simple functions which return an iterable set of items, one at a time, in a special way."
   ]
  },
  {
   "cell_type": "code",
   "execution_count": 30,
   "metadata": {},
   "outputs": [
    {
     "name": "stdout",
     "output_type": "stream",
     "text": [
      "['1', '2', '3']\n"
     ]
    },
    {
     "data": {
      "text/plain": [
       "['1', '2', '3']"
      ]
     },
     "execution_count": 30,
     "metadata": {},
     "output_type": "execute_result"
    }
   ],
   "source": [
    "def gen():\n",
    "    yield '1'\n",
    "    yield '2'\n",
    "    yield '3'\n",
    "    \n",
    "ob = gen()\n",
    "#print(next(ob))\n",
    "#print(next(ob))\n",
    "#print(next(ob))\n",
    "print([next(ob) for i in range(3)])\n",
    "[i for i in gen()]"
   ]
  },
  {
   "cell_type": "code",
   "execution_count": null,
   "metadata": {},
   "outputs": [],
   "source": []
  }
 ],
 "metadata": {
  "kernelspec": {
   "display_name": "Python 3",
   "language": "python",
   "name": "python3"
  },
  "language_info": {
   "codemirror_mode": {
    "name": "ipython",
    "version": 3
   },
   "file_extension": ".py",
   "mimetype": "text/x-python",
   "name": "python",
   "nbconvert_exporter": "python",
   "pygments_lexer": "ipython3",
   "version": "3.7.0"
  }
 },
 "nbformat": 4,
 "nbformat_minor": 2
}

raise - raise an exception.
assert - raise an exception if a given condition is meet.
try - execute some code that might raise an exception, and if so, catch it.
