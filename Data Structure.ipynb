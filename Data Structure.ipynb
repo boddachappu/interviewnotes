{
 "cells": [
  {
   "cell_type": "markdown",
   "metadata": {},
   "source": [
    "# Collections"
   ]
  },
  {
   "cell_type": "markdown",
   "metadata": {},
   "source": [
    "## Lists\n",
    "* It is mutable and can have duplicates.\n",
    "* It is ordered(the representation will be same when we declared n while printing)\n",
    "* We can initialize n number of objects\n",
    "* They are represented in square brackets\n",
    "* Thet have different methods like \n",
    "* append : add the data to list at the end\n",
    "* extend : it will combine two different list\n",
    "* pop : it will remove the element based on the index of the list\n",
    "* remove : it will remove the element based on the value of the list\n",
    "* reverse : it will reverse the string\n",
    "* count : it will count the number of elements inside a list which is passed as argument, else returns 0\n",
    "* index : it will give the index of the first occurance of element in the list\n",
    "* copy : it will copy the list into other list in different memory loaction\n",
    "* clear : it will clear the list\n",
    "* sort : it will sort the list, it won't create a new list"
   ]
  },
  {
   "cell_type": "code",
   "execution_count": 9,
   "metadata": {},
   "outputs": [
    {
     "name": "stdout",
     "output_type": "stream",
     "text": [
      "False\n",
      "['vinod'] ['v', 'i', 'n', 'o', 'd']\n",
      "['vinod', 'rashmi']\n",
      "['vinod', 'rashmi', 'v', 'i', 'n', 'o', 'd']\n",
      "pop ['vinod', 'rashmi', 'i', 'n', 'o', 'd']\n",
      "remove ['vinod', 'rashmi', 'n', 'o', 'd']\n",
      "['d', 'o', 'n', 'rashmi', 'vinod']\n",
      "count 2\n",
      "['d', 'o', 'n', 'rashmi', 'vinod', 'vinod']\n",
      "4\n",
      "0x18371904408 0x18371793048 ['d', 'o', 'n', 'rashmi', 'vinod', 'vinod'] ['d', 'o', 'n', 'rashmi', 'vinod', 'vinod']\n",
      "['d', 'n', 'o', 'rashmi', 'vinod', 'vinod']\n",
      "[]\n",
      "[(1, -1, 0), (1, 0, 2), (1, 1, 1), (1, 2, 3)]\n",
      "[(1, 2, 3), (1, 0, 2), (1, -1, 0), (1, 1, 1)]\n",
      "[6, 5, 4, 3, 2, 1] [6, 5, 4, 3, 2, 1]\n",
      "[1, 2, 3, 4, 5, 6]\n",
      "{0: 3, 1: 1, 2: 1, 3: 2, 4: 3}\n"
     ]
    }
   ],
   "source": [
    "l1 = ['vinod']\n",
    "l2 = list('vinod')\n",
    "print(l1==l2)\n",
    "print(l1,l2)\n",
    "l1.append('rashmi')\n",
    "print(l1)\n",
    "l1.extend(l2)\n",
    "print(l1)\n",
    "#we needto mention the index which weare removing else it will remove the last value\n",
    "l1.pop(2)\n",
    "print('pop',l1)\n",
    "#we needto mention the value which weare removing else it will throw error\n",
    "l1.remove('i')\n",
    "print('remove',l1)\n",
    "l1.reverse()\n",
    "print(l1)\n",
    "l1.append('vinod')\n",
    "print('count',l1.count('vinod'))\n",
    "print(l1)\n",
    "print(l1.index('vinod'))\n",
    "l = l1.copy()\n",
    "print(hex(id(l)),hex(id(l1)),l,l1)\n",
    "l.sort()\n",
    "print(l)\n",
    "l.clear()\n",
    "print(l)\n",
    "l = [(1,2,3),(1,0,2),(1,-1,0),(1,1,1)]\n",
    "#l.sort(key = lambda  x:x[1])\n",
    "#print(l)\n",
    "#sorted functions and sort are same but sorted creates a new list where as sort does changes in the original list\n",
    "print(sorted(l,key=lambda x : x[1]))\n",
    "print(l)\n",
    "l = [1,2,3,4,5,6]\n",
    "print(l[::-1],l[::-1])\n",
    "print(l[0:])\n",
    "l = [0,0,0,1,2,3,3,4,4,4]\n",
    "dict1 = {}\n",
    "dict1=dict1.fromkeys(l)\n",
    "for key , val in dict1.items():\n",
    "    dict1[key] = l.count(key)\n",
    "print(dict1)"
   ]
  },
  {
   "cell_type": "markdown",
   "metadata": {},
   "source": [
    "## Tupple\n",
    "* The memory allocation is constant.\n",
    "* it is immutable data type.\n",
    "* Retriving is faster in tupple when compared to list.\n",
    "* slicing opeartion can bedonein tuple.\n",
    "* The below are the methods\n",
    "* count : count the element in tuple, return 0 when it is not present\n",
    "* index : return the inde of the element in the tuple"
   ]
  },
  {
   "cell_type": "code",
   "execution_count": 106,
   "metadata": {},
   "outputs": [
    {
     "name": "stdout",
     "output_type": "stream",
     "text": [
      "<class 'tuple'> (1, 3)\n",
      "1\n",
      "1\n"
     ]
    }
   ],
   "source": [
    "t = (1,2,3)\n",
    "print(type(t),t[0:4:2])\n",
    "print(t.count(1))\n",
    "print(t.index(2))"
   ]
  },
  {
   "cell_type": "code",
   "execution_count": 6,
   "metadata": {},
   "outputs": [
    {
     "name": "stdout",
     "output_type": "stream",
     "text": [
      "9 {'aaacccaaa', 'aacccaa', 'aa', 'aaaa', 'ccc', 'caaac', 'accca', 'cc', 'aaa'}\n"
     ]
    }
   ],
   "source": [
    "def isPalindrome(s):\n",
    "    for i in range(0,(int)(len(s)/2)):\n",
    "        if(s[i]!=(s[len(s)-i-1])):\n",
    "            return(0)\n",
    "    return(1)\n",
    "\n",
    "s = \"aaaacccaaac\"\n",
    "s1 = set()\n",
    "total = 0\n",
    "for i in range(0,len(s)-1):\n",
    "    for j in range(i+2,len(s)+1):\n",
    "        #total = total + isPalindrome(s[i:j])\n",
    "        if(isPalindrome(s[i:j])==1):\n",
    "            s1.add(s[i:j])\n",
    "print(len(list(s1)),s1)"
   ]
  },
  {
   "cell_type": "markdown",
   "metadata": {},
   "source": [
    "## Set\n",
    "* Doens't allow duplicates\n",
    "* Unordred\n",
    "* slicing operation is not allowed\n",
    "* Below are the methods\n",
    "* add : it append the value to the set\n",
    "* difference : it will give the values of base set which are not present in second set(s-s2)\n",
    "* difference_update : it will remove all the elements and update the original set\n",
    "* update : combines two sets into one set\n",
    "* union : it will combine all the elements in both sets\n",
    "* intersetion : it will give the common elements in both sets and creates a list\n",
    "* intersection_update : it does like same intersection but itwill update base set rather creating new\n",
    "* copy : it will copy the list into other list in different memory loaction\n",
    "* isdisoint : return True if two sets are different different doesn't have same element\n",
    "* issubset : returns true if base set element are present in second set\n",
    "* issuperset : returns true if both sets are same\n",
    "* symmetric_difference : it will return new set with non same elements in both the sets\n",
    "* symmetric_difference_update : it works like same symmetric_difference but update to base set\n",
    "* pop : used to remove first element from set. Takes no argument"
   ]
  },
  {
   "cell_type": "code",
   "execution_count": 16,
   "metadata": {},
   "outputs": [
    {
     "name": "stdout",
     "output_type": "stream",
     "text": [
      "{1, 2, 3, 4, 5, 6} {0, 1, 3, 9, 10}\n"
     ]
    }
   ],
   "source": [
    "s = {1,2,3,4,5,6}\n",
    "s2 = {0,3,1,9,10}\n",
    "s.difference(s2)\n",
    "print(s,s2)"
   ]
  },
  {
   "cell_type": "code",
   "execution_count": 192,
   "metadata": {},
   "outputs": [
    {
     "name": "stdout",
     "output_type": "stream",
     "text": [
      "<class 'set'> {2, 3, 4, 5, 7, -1} <class 'set'>\n",
      "{2, 3, 4, 5, 6, 7, -1} {2, 3, 4, 5, 6, 9}\n",
      "{9} {9}\n",
      "{7, -1}\n",
      "{2, 3, 4, 5, 6, 7, -1} {2, 3, 4, 5, 6, 9} {2, 3, 4, 5, 6, 7, -1}\n",
      "{4, 3, 2, 7, 5, 6, 9, -1}\n",
      "{4, 3, 2, 7, 5, 6, 9, -1}\n",
      "{7, -1}\n",
      "s2 {2, 3, 4, 5, 6, 9}\n",
      "s1 {2, 3, 4, 5, 6, 7, -1}\n",
      "{2, 3, 4, 5, 6}\n",
      "{2, 3, 4, 5, 6, 7, -1} {2, 3, 4, 5, 6} False\n",
      "{2, 3, 4, 5, 6} {2, 3, 4, 5, 6} True\n",
      "{0, 3, 4, 5, 6, 7} {2, 3, 4, 5, 6}\n",
      "{0, 2, 7}\n",
      "{2, 7}\n",
      "set()\n"
     ]
    }
   ],
   "source": [
    "s = {-1,2,4,5,3,3,7}\n",
    "s2 ={9,2,3,4,5,6}\n",
    "s4 = set()\n",
    "print(type(s),s,type(s4))\n",
    "s.add(6)\n",
    "s1 = s.copy()\n",
    "print(s,s2)\n",
    "print(s2.difference(s),s2-s)\n",
    "(s.difference_update(s2))\n",
    "print(s)\n",
    "s1.discard(s2)\n",
    "print(s1,s2,s1)\n",
    "s.update(s2)\n",
    "print(s)\n",
    "s.union(s2)\n",
    "print(s)\n",
    "s.difference_update(s2)\n",
    "print(s)\n",
    "print('s2',s2)\n",
    "print('s1',s1)\n",
    "s2.intersection_update(s1)\n",
    "print(s2)\n",
    "print(s1,s2,s1.isdisjoint(s2))\n",
    "s1.remove(7)\n",
    "s1.remove(-1)\n",
    "x=s2.issuperset(s1)\n",
    "print(s2,s1,x)\n",
    "\n",
    "s = {0,3,4,5,6,7}\n",
    "print(s,s1)\n",
    "s1.symmetric_difference_update(s)\n",
    "print(s1)\n",
    "s1.pop()\n",
    "print(s1)\n",
    "s.clear()\n",
    "print(s)"
   ]
  },
  {
   "cell_type": "markdown",
   "metadata": {},
   "source": [
    "## Dictionary\n",
    "* Mutable and Unordered\n",
    "* key value pair\n",
    "* cannot have duplicate keys but can haveduplicate values\n",
    "* Duplicate keys are present in the dictionry it will take the latest one\n",
    "* The following are the methods\n",
    "* fromkeys : it will take iterable as arguments and converts it into dictionary with keys as set of iterables, value None \n",
    "* keys : it will give the dictionary keys\n",
    "* values : it will give the dictinary values\n",
    "* items : it will give the list of tuples of a dictionary\n",
    "* get : to get a particular key value\n",
    "* pop : it removes the item from dictionary based on key value\n",
    "* popitem : takes no argument but removes first element and prints as two indexed tuple with key n values\n",
    "* update : it will combine two dictionaries in to one\n",
    "* setdefault : key is not present in dictionary it will insert key and value as None in dictionary else value is returned"
   ]
  },
  {
   "cell_type": "code",
   "execution_count": 2,
   "metadata": {},
   "outputs": [
    {
     "data": {
      "text/plain": [
       "{1: None, 2: None, 3: None, 4: None}"
      ]
     },
     "execution_count": 2,
     "metadata": {},
     "output_type": "execute_result"
    }
   ],
   "source": [
    "d = {}\n",
    "l = [1,1,1,2,3,4]\n",
    "d = d.fromkeys(l)\n",
    "d"
   ]
  },
  {
   "cell_type": "code",
   "execution_count": 8,
   "metadata": {},
   "outputs": [
    {
     "name": "stdout",
     "output_type": "stream",
     "text": [
      "<class 'dict'>\n",
      "{1: None, 2: None, 3: None, 4: None, 5: None}\n",
      "dict_keys(['a', 'b', 'c', 'd']) dict_values([2, 2, 1, 3])\n",
      "dict_items([('a', 2), ('b', 2), ('c', 1), ('d', 3)])\n",
      "2\n",
      "{'b': 2, 'c': 1, 'd': 3}\n",
      "('d', 3)\n",
      "{'b': 2, 'c': 1, 'a': 1, 'd': 2}\n",
      "{'b': 2, 'c': 1, 'a': 1, 'd': 2} {'b': 2, 'c': 1, 'a': 1, 'd': 2}\n",
      "{}\n"
     ]
    }
   ],
   "source": [
    "d = {}\n",
    "print(type(d))\n",
    "d =d.fromkeys([1,2,3,4,4,5,5,5])\n",
    "print(d)\n",
    "d = {'a':1,'b':2,'c':1,'d':3,'a':2}\n",
    "print(d.keys(),d.values())\n",
    "print(d.items())\n",
    "print(d.get('a'))\n",
    "d.pop('a')\n",
    "print(d)\n",
    "print(d.popitem())\n",
    "d2 = {'a':1,'d':2}\n",
    "d.update(d2)\n",
    "print(d)\n",
    "d.setdefault('a')\n",
    "d2 = d.copy()\n",
    "print(d2,d)\n",
    "d2.clear()\n",
    "print(d2)"
   ]
  },
  {
   "cell_type": "code",
   "execution_count": 245,
   "metadata": {},
   "outputs": [
    {
     "name": "stdout",
     "output_type": "stream",
     "text": [
      "1 0\n"
     ]
    },
    {
     "ename": "Exception",
     "evalue": "denominator cannot be zero",
     "output_type": "error",
     "traceback": [
      "\u001b[1;31m---------------------------------------------------------------------------\u001b[0m",
      "\u001b[1;31mException\u001b[0m                                 Traceback (most recent call last)",
      "\u001b[1;32m<ipython-input-245-f5f0503fd540>\u001b[0m in \u001b[0;36m<module>\u001b[1;34m\u001b[0m\n\u001b[0;32m     13\u001b[0m     \u001b[0mprint\u001b[0m\u001b[1;33m(\u001b[0m\u001b[1;34m'The divisionof two numbers'\u001b[0m\u001b[1;33m,\u001b[0m\u001b[1;33m(\u001b[0m\u001b[0ma\u001b[0m\u001b[1;33m/\u001b[0m\u001b[0mb\u001b[0m\u001b[1;33m)\u001b[0m\u001b[1;33m)\u001b[0m\u001b[1;33m\u001b[0m\u001b[1;33m\u001b[0m\u001b[0m\n\u001b[0;32m     14\u001b[0m \u001b[1;33m\u001b[0m\u001b[0m\n\u001b[1;32m---> 15\u001b[1;33m \u001b[0mdivide\u001b[0m\u001b[1;33m(\u001b[0m\u001b[1;36m1\u001b[0m\u001b[1;33m,\u001b[0m\u001b[1;36m0\u001b[0m\u001b[1;33m)\u001b[0m\u001b[1;33m\u001b[0m\u001b[1;33m\u001b[0m\u001b[0m\n\u001b[0m",
      "\u001b[1;32m<ipython-input-245-f5f0503fd540>\u001b[0m in \u001b[0;36minner\u001b[1;34m(a, b)\u001b[0m\n\u001b[0;32m      3\u001b[0m         \u001b[0mprint\u001b[0m\u001b[1;33m(\u001b[0m\u001b[0ma\u001b[0m\u001b[1;33m,\u001b[0m\u001b[0mb\u001b[0m\u001b[1;33m)\u001b[0m\u001b[1;33m\u001b[0m\u001b[1;33m\u001b[0m\u001b[0m\n\u001b[0;32m      4\u001b[0m         \u001b[1;32mif\u001b[0m \u001b[0mb\u001b[0m\u001b[1;33m==\u001b[0m\u001b[1;36m0\u001b[0m\u001b[1;33m:\u001b[0m\u001b[1;33m\u001b[0m\u001b[1;33m\u001b[0m\u001b[0m\n\u001b[1;32m----> 5\u001b[1;33m             \u001b[1;32mraise\u001b[0m \u001b[0mException\u001b[0m\u001b[1;33m(\u001b[0m\u001b[1;34m'denominator cannot be zero'\u001b[0m\u001b[1;33m)\u001b[0m\u001b[1;33m\u001b[0m\u001b[1;33m\u001b[0m\u001b[0m\n\u001b[0m\u001b[0;32m      6\u001b[0m \u001b[1;33m\u001b[0m\u001b[0m\n\u001b[0;32m      7\u001b[0m         \u001b[0mres\u001b[0m \u001b[1;33m=\u001b[0m \u001b[0mfn\u001b[0m\u001b[1;33m(\u001b[0m\u001b[0ma\u001b[0m\u001b[1;33m,\u001b[0m\u001b[0mb\u001b[0m\u001b[1;33m)\u001b[0m\u001b[1;33m\u001b[0m\u001b[1;33m\u001b[0m\u001b[0m\n",
      "\u001b[1;31mException\u001b[0m: denominator cannot be zero"
     ]
    }
   ],
   "source": [
    "def decorator(fn):\n",
    "    def inner(a,b):\n",
    "        print(a,b)\n",
    "        if b==0:\n",
    "            raise Exception('denominator cannot be zero')\n",
    "        res = fn(a,b)\n",
    "        return res\n",
    "    return inner\n",
    "\n",
    "@decorator\n",
    "def divide(a,b):\n",
    "    print('The divisionof two numbers',(a/b))\n",
    "\n",
    "divide(1,0)"
   ]
  },
  {
   "cell_type": "code",
   "execution_count": 238,
   "metadata": {},
   "outputs": [
    {
     "name": "stdout",
     "output_type": "stream",
     "text": [
      "4 0\n"
     ]
    },
    {
     "ename": "Exception",
     "evalue": "The denominator can't be zero",
     "output_type": "error",
     "traceback": [
      "\u001b[1;31m---------------------------------------------------------------------------\u001b[0m",
      "\u001b[1;31mException\u001b[0m                                 Traceback (most recent call last)",
      "\u001b[1;32m<ipython-input-238-757fcddf99cf>\u001b[0m in \u001b[0;36m<module>\u001b[1;34m\u001b[0m\n\u001b[0;32m     12\u001b[0m     \u001b[0mprint\u001b[0m\u001b[1;33m(\u001b[0m\u001b[1;34m'div'\u001b[0m\u001b[1;33m,\u001b[0m\u001b[0ma\u001b[0m\u001b[1;33m/\u001b[0m\u001b[0mb\u001b[0m\u001b[1;33m)\u001b[0m\u001b[1;33m\u001b[0m\u001b[1;33m\u001b[0m\u001b[0m\n\u001b[0;32m     13\u001b[0m \u001b[1;33m\u001b[0m\u001b[0m\n\u001b[1;32m---> 14\u001b[1;33m \u001b[0mdivide\u001b[0m\u001b[1;33m(\u001b[0m\u001b[1;36m4\u001b[0m\u001b[1;33m,\u001b[0m\u001b[1;36m0\u001b[0m\u001b[1;33m)\u001b[0m\u001b[1;33m\u001b[0m\u001b[1;33m\u001b[0m\u001b[0m\n\u001b[0m",
      "\u001b[1;32m<ipython-input-238-757fcddf99cf>\u001b[0m in \u001b[0;36minner\u001b[1;34m(a, b)\u001b[0m\n\u001b[0;32m      3\u001b[0m         \u001b[0mprint\u001b[0m\u001b[1;33m(\u001b[0m\u001b[0ma\u001b[0m\u001b[1;33m,\u001b[0m\u001b[0mb\u001b[0m\u001b[1;33m)\u001b[0m\u001b[1;33m\u001b[0m\u001b[1;33m\u001b[0m\u001b[0m\n\u001b[0;32m      4\u001b[0m         \u001b[1;32mif\u001b[0m \u001b[0mb\u001b[0m\u001b[1;33m==\u001b[0m\u001b[1;36m0\u001b[0m\u001b[1;33m:\u001b[0m\u001b[1;33m\u001b[0m\u001b[1;33m\u001b[0m\u001b[0m\n\u001b[1;32m----> 5\u001b[1;33m             \u001b[1;32mraise\u001b[0m \u001b[0mException\u001b[0m\u001b[1;33m(\u001b[0m\u001b[1;34m\"The denominator can't be zero\"\u001b[0m\u001b[1;33m)\u001b[0m\u001b[1;33m\u001b[0m\u001b[1;33m\u001b[0m\u001b[0m\n\u001b[0m\u001b[0;32m      6\u001b[0m         \u001b[0mres\u001b[0m \u001b[1;33m=\u001b[0m \u001b[0mfn\u001b[0m\u001b[1;33m(\u001b[0m\u001b[0ma\u001b[0m\u001b[1;33m,\u001b[0m\u001b[0mb\u001b[0m\u001b[1;33m)\u001b[0m\u001b[1;33m\u001b[0m\u001b[1;33m\u001b[0m\u001b[0m\n\u001b[0;32m      7\u001b[0m         \u001b[1;32mreturn\u001b[0m \u001b[0mres\u001b[0m\u001b[1;33m\u001b[0m\u001b[1;33m\u001b[0m\u001b[0m\n",
      "\u001b[1;31mException\u001b[0m: The denominator can't be zero"
     ]
    }
   ],
   "source": [
    "def decorator(fn):\n",
    "    def inner(a,b):\n",
    "        print(a,b)\n",
    "        if b==0:\n",
    "            raise Exception(\"The denominator can't be zero\")\n",
    "        res = fn(a,b)\n",
    "        return res\n",
    "    return inner\n",
    "\n",
    "@decorator\n",
    "def divide(a,b):\n",
    "    print('div',a/b)\n",
    "\n",
    "divide(4,0)"
   ]
  },
  {
   "cell_type": "markdown",
   "metadata": {},
   "source": [
    "## Double decorator\n",
    "* checking wheather the given name eists in both accounts and loans\n",
    "* Both the decorated function should return true to eecute main function"
   ]
  },
  {
   "cell_type": "code",
   "execution_count": 259,
   "metadata": {},
   "outputs": [
    {
     "name": "stdout",
     "output_type": "stream",
     "text": [
      "inside dec\n",
      "inside super dec\n",
      "valid name vi\n"
     ]
    }
   ],
   "source": [
    "loans = ['vinod','rashmi','vi']\n",
    "accounts = ['vinod','vi']\n",
    "def checksuper(func):\n",
    "    print('inside super dec')\n",
    "    def inner(name):\n",
    "        if name not in loans:\n",
    "            return 'name is not in accounts'\n",
    "        return func(name)\n",
    "    return inner\n",
    "\n",
    "def check(func):\n",
    "    print('inside dec')\n",
    "    def inner(name):\n",
    "        if name not in accounts:\n",
    "            return ('user is not defined')\n",
    "        res = func(name)\n",
    "        return res\n",
    "    return inner\n",
    "\n",
    "@checksuper\n",
    "@check\n",
    "def valid(name):\n",
    "    print('valid name {}'.format(name))\n",
    "    \n",
    "valid('vi')"
   ]
  },
  {
   "cell_type": "markdown",
   "metadata": {},
   "source": [
    "## Generators\n",
    "* Printing only first five lines in a file\n",
    "* Dividing first 50 numbers to one list and other 50 numbers to other"
   ]
  },
  {
   "cell_type": "code",
   "execution_count": 17,
   "metadata": {},
   "outputs": [
    {
     "name": "stdout",
     "output_type": "stream",
     "text": [
      "['\\n', '🏠PythonSeleniumQAAgileAngularSQLJavaLinuxCC#WebPHPAndroid\\n']\n",
      "['Python Generator Tutorial for Beginners\\n']\n",
      "['\\n', ' \\n', 'Python Tutorials | By Meenakshi Agarwal\\n']\n",
      "['This tutorial should help you learn, create and use Python Generator functions and expressions. It also covers some essential facts such as why and when to use them in programs, and what makes a generator different from an iterator and a regular function.\\n']\n",
      "['\\n', 'Understand the Generator in Python\\n']\n"
     ]
    }
   ],
   "source": [
    "def readline():\n",
    "    with open('filename.txt','r',encoding='utf-8') as fp:\n",
    "        while True:\n",
    "            yield fp.readlines(9)\n",
    "        \n",
    "ob = readline()\n",
    "\n",
    "for i in range(0,5):\n",
    "    print(next(ob))"
   ]
  },
  {
   "cell_type": "code",
   "execution_count": 285,
   "metadata": {},
   "outputs": [
    {
     "name": "stdout",
     "output_type": "stream",
     "text": [
      "[0, 1, 2, 3, 4, 5, 6, 7, 8, 9, 10, 11, 12, 13, 14, 15, 16, 17, 18, 19, 20, 21, 22, 23, 24, 25, 26, 27, 28, 29, 30, 31, 32, 33, 34, 35, 36, 37, 38, 39, 40, 41, 42, 43, 44, 45, 46, 47, 48, 49]\n",
      "[50, 51, 52, 53, 54, 55, 56, 57, 58, 59, 60, 61, 62, 63, 64, 65, 66, 67, 68, 69, 70, 71, 72, 73, 74, 75, 76, 77, 78, 79, 80, 81, 82, 83, 84, 85, 86, 87, 88, 89, 90, 91, 92, 93, 94, 95, 96, 97, 98, 99]\n"
     ]
    }
   ],
   "source": [
    "def numberscount():\n",
    "    for i in range(0,100):\n",
    "        yield i\n",
    "ob = numberscount()\n",
    "l = []\n",
    "for i in range(0,50):\n",
    "    l.append(next(ob))\n",
    "l2 = []\n",
    "for i in range(0,50):\n",
    "    l2.append(next(ob))\n",
    "\n",
    "print(l)\n",
    "print(l2)"
   ]
  },
  {
   "cell_type": "markdown",
   "metadata": {},
   "source": [
    "## Class"
   ]
  },
  {
   "cell_type": "markdown",
   "metadata": {},
   "source": [
    "### singleton class"
   ]
  },
  {
   "cell_type": "code",
   "execution_count": 309,
   "metadata": {},
   "outputs": [
    {
     "name": "stdout",
     "output_type": "stream",
     "text": [
      "<__main__.singleton object at 0x000001A91E01CB70> <__main__.singleton object at 0x000001A91E01CB70>\n",
      "<__main__.singleton object at 0x000001A91E01CB70> <__main__.singleton object at 0x000001A91E01CB70>\n",
      "only one object can be created\n",
      "<__main__.singleton object at 0x000001A91E01C780> <__main__.singleton object at 0x000001A91E01CB70>\n",
      "<__main__.singleton object at 0x000001A91E01CB70>\n"
     ]
    }
   ],
   "source": [
    "class singleton:\n",
    "    check = None\n",
    "    def __init__(self):\n",
    "        if singleton.check != None:\n",
    "            print('only one object can be created')\n",
    "            return None\n",
    "        singleton.check = self\n",
    "    @classmethod\n",
    "    def classmeth(cls):\n",
    "        if singleton.check == None:\n",
    "            singleton()\n",
    "        return singleton.check\n",
    "\n",
    "ob = singleton()\n",
    "print(ob,ob.check)\n",
    "ob1 = singleton.classmeth()\n",
    "print(ob1,singleton.check)\n",
    "ob2 = singleton()\n",
    "print(ob2,ob2.check)\n",
    "ob3 = singleton.classmeth()\n",
    "print(ob3)"
   ]
  },
  {
   "cell_type": "code",
   "execution_count": 351,
   "metadata": {},
   "outputs": [
    {
     "name": "stdout",
     "output_type": "stream",
     "text": [
      "student class\n",
      "24 vinod\n",
      "hobies of student vinod are cricket\n",
      "The adress of student is hyderabad\n",
      "student class\n",
      "25 rashmi\n",
      "hobies of student rashmi are cricket\n",
      "The adress of student is hyderabad\n"
     ]
    }
   ],
   "source": [
    "class student(object):\n",
    "    def __init__(self,name,age):\n",
    "        print('student class')\n",
    "        self.name = name\n",
    "        self.age =age\n",
    "        self.parentname = 'yzz'\n",
    "    \n",
    "    def hobies(self,name):\n",
    "        print('hobies of student {} are cricket'.format(self.name))\n",
    "    \n",
    "    @staticmethod\n",
    "    def address():\n",
    "        print('The adress of student is hyderabad')\n",
    "        \n",
    "    @classmethod\n",
    "    def stu(cls,name,age):\n",
    "        return cls(name,age)\n",
    "\n",
    "ob = student('vinod',24)\n",
    "print(ob.age,ob.name)\n",
    "ob.hobies('vinod')\n",
    "student.address() # or ob.address()\n",
    "\n",
    "ob1 = student.stu('rashmi',25)\n",
    "print(ob1.age,ob1.name)\n",
    "ob1.hobies('rashmi')\n",
    "ob1.address()"
   ]
  },
  {
   "cell_type": "markdown",
   "metadata": {},
   "source": [
    "### Polymorphism"
   ]
  },
  {
   "cell_type": "code",
   "execution_count": 371,
   "metadata": {},
   "outputs": [
    {
     "name": "stdout",
     "output_type": "stream",
     "text": [
      "student class\n",
      "The adress of student is hyderabad\n",
      "school class\n",
      "student class\n",
      "The school address in school\n"
     ]
    }
   ],
   "source": [
    "class school(student):\n",
    "    def __init__(self,name):\n",
    "        self.name = name\n",
    "        print('school class')\n",
    "        super().__init__(self.name,28)\n",
    "        \n",
    "    def address(self):\n",
    "        print('The school address in school')\n",
    "\n",
    "class parent(school):\n",
    "    def __init__(self,name):\n",
    "        self.name = name\n",
    "        print('parent class')\n",
    "        super().__init__(self.name)\n",
    "\n",
    "ob = student('vinod',25)\n",
    "ob.address()\n",
    "ob1 = school('vasishta')\n",
    "ob1.address()"
   ]
  },
  {
   "cell_type": "code",
   "execution_count": 10,
   "metadata": {},
   "outputs": [
    {
     "name": "stdout",
     "output_type": "stream",
     "text": [
      "1594351377544 1594351377544 1594351377416\n",
      "[1, 2, 3, [1, 2, 7]] [1, 2, 3, [1, 2, 7]] [1, 2, 3, [1, 2, 3]]\n"
     ]
    }
   ],
   "source": [
    "import copy\n",
    "a = [1,2,3,[1,2,3]]\n",
    "b=a\n",
    "c = copy.deepcopy(a)\n",
    "a[3][2] = 7\n",
    "print(id(a),id(b),id(c))\n",
    "print(a,b,c)"
   ]
  },
  {
   "cell_type": "code",
   "execution_count": null,
   "metadata": {},
   "outputs": [],
   "source": []
  }
 ],
 "metadata": {
  "kernelspec": {
   "display_name": "Python 3",
   "language": "python",
   "name": "python3"
  },
  "language_info": {
   "codemirror_mode": {
    "name": "ipython",
    "version": 3
   },
   "file_extension": ".py",
   "mimetype": "text/x-python",
   "name": "python",
   "nbconvert_exporter": "python",
   "pygments_lexer": "ipython3",
   "version": "3.7.3"
  }
 },
 "nbformat": 4,
 "nbformat_minor": 2
}
