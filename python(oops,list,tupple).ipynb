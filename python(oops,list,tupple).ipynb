{
 "cells": [
  {
   "cell_type": "markdown",
   "metadata": {},
   "source": [
    "# OOPS"
   ]
  },
  {
   "cell_type": "markdown",
   "metadata": {},
   "source": [
    "#### polymorphism : it's a opps characteristic where objects have same definition but performs different operation"
   ]
  },
  {
   "cell_type": "code",
   "execution_count": 5,
   "metadata": {},
   "outputs": [
    {
     "name": "stdout",
     "output_type": "stream",
     "text": [
      "Human eats any food\n",
      "Lion eats only non veg\n"
     ]
    }
   ],
   "source": [
    "class Animal():\n",
    "    def __init__(self,name):\n",
    "        self.name = name\n",
    "    def eating(self):\n",
    "        print(self.name,'eats any food') \n",
    "\n",
    "class Carnivorous(Animal):\n",
    "    def __init__(self,name):\n",
    "        self.name = name\n",
    "    def eating(self):\n",
    "        print(self.name,'eats only non veg')\n",
    "        \n",
    "ob = Animal('Human')\n",
    "ob.eating()\n",
    "ob2 = Carnivorous('Lion')\n",
    "ob2.eating()"
   ]
  },
  {
   "cell_type": "markdown",
   "metadata": {},
   "source": [
    "#### Abstraction : The process of hiding the data from the user"
   ]
  },
  {
   "cell_type": "code",
   "execution_count": 106,
   "metadata": {},
   "outputs": [
    {
     "name": "stdout",
     "output_type": "stream",
     "text": [
      "12345679\n"
     ]
    },
    {
     "data": {
      "text/plain": [
       "('vinod', 12345678)"
      ]
     },
     "execution_count": 106,
     "metadata": {},
     "output_type": "execute_result"
    }
   ],
   "source": [
    "class Bank:\n",
    "    __accout_number = None\n",
    "    \n",
    "    def __init__(self,no,name):\n",
    "        self.name = name\n",
    "        self.no = no\n",
    "    \n",
    "    #instance methods are called only with objects, it throws error when it is called with class name\n",
    "    def cal(self,name):\n",
    "        #the '__' variable are accessed only inside the class\n",
    "        return self.name, self.__accout_number\n",
    "    \n",
    "    #we can call static methods with the help of objects and class names\n",
    "    @staticmethod\n",
    "    def display(bank):\n",
    "        bank.__accout_number = bank.no\n",
    "        return bank.__accout_number+1\n",
    "    \n",
    "    \n",
    "\n",
    "    \n",
    "ob = Bank(12345678,'vinod')\n",
    "print(Bank.display(ob))\n",
    "#Bank.cal('vinod')\n",
    "ob.cal('vinod')\n",
    "#when we tried to access the '__' var it throws error that \"'Bank' object has no attribute '__accout_number'\"\n",
    "#print(ob.__accout_number)"
   ]
  },
  {
   "cell_type": "markdown",
   "metadata": {},
   "source": [
    "#### Inheritance : The oops concept one class derivers the properties of another class"
   ]
  },
  {
   "cell_type": "code",
   "execution_count": 25,
   "metadata": {},
   "outputs": [
    {
     "name": "stdout",
     "output_type": "stream",
     "text": [
      "Lion eats any food\n"
     ]
    }
   ],
   "source": [
    "#single Inheritance\n",
    "class Animal():\n",
    "    def __init__(self,name):\n",
    "        self.name = name\n",
    "    def eating(self):\n",
    "        print(self.name,'eats any food')\n",
    "\n",
    "class Carnivorous(Animal,object):\n",
    "    def __init__(self,name):\n",
    "        self.name = name\n",
    "\n",
    "ob2 = Carnivorous('Lion')\n",
    "ob2.eating()"
   ]
  },
  {
   "cell_type": "markdown",
   "metadata": {},
   "source": [
    "##### MRO : Method Resolution Order descibes in which order the class will be called during inheritance"
   ]
  },
  {
   "cell_type": "code",
   "execution_count": 26,
   "metadata": {},
   "outputs": [
    {
     "data": {
      "text/plain": [
       "[__main__.Carnivorous, __main__.Animal, object]"
      ]
     },
     "execution_count": 26,
     "metadata": {},
     "output_type": "execute_result"
    }
   ],
   "source": [
    "Carnivorous.mro()"
   ]
  },
  {
   "cell_type": "code",
   "execution_count": 34,
   "metadata": {},
   "outputs": [
    {
     "name": "stdout",
     "output_type": "stream",
     "text": [
      "vinod eats any food\n",
      "vinod has two legs and two hands\n"
     ]
    },
    {
     "data": {
      "text/plain": [
       "[__main__.Human, __main__.Animal, __main__.Carnivorous, object]"
      ]
     },
     "execution_count": 34,
     "metadata": {},
     "output_type": "execute_result"
    }
   ],
   "source": [
    "#Multiple Inheritance : child class inherts different parent class\n",
    "class Animal():\n",
    "    def __init__(self,name):\n",
    "        self.name = name\n",
    "    def eating(self):\n",
    "        print(self.name,'eats any food')\n",
    "\n",
    "class Carnivorous():\n",
    "    def __init__(self,name):\n",
    "        self.name = name\n",
    "        \n",
    "class Human(Animal,Carnivorous):\n",
    "    def __init__(self,name):\n",
    "        self.name = name\n",
    "    def body(self):\n",
    "        print(self.name,'has two legs and two hands')\n",
    "\n",
    "ob = Human('vinod')\n",
    "ob.eating()\n",
    "ob.body()\n",
    "Human.mro()"
   ]
  },
  {
   "cell_type": "code",
   "execution_count": 38,
   "metadata": {},
   "outputs": [
    {
     "name": "stdout",
     "output_type": "stream",
     "text": [
      "vinod eats non veg food\n",
      "vinod has two legs and two hands\n",
      "Lion eats non veg food\n"
     ]
    }
   ],
   "source": [
    "#Multilevel : child and grand child relationship\n",
    "\n",
    "#Multiple Inheritance\n",
    "class Animal():\n",
    "    def __init__(self,name):\n",
    "        self.name = name\n",
    "    def eating(self):\n",
    "        print(self.name,'eats any food')\n",
    "\n",
    "class Carnivorous(Animal):\n",
    "    def __init__(self,name):\n",
    "        self.name = name\n",
    "    def eating(self):\n",
    "        print(self.name,'eats non veg food')\n",
    "        \n",
    "class Human(Carnivorous):\n",
    "    def __init__(self,name):\n",
    "        self.name = name\n",
    "    def body(self):\n",
    "        print(self.name,'has two legs and two hands')\n",
    "\n",
    "ob = Human('vinod')\n",
    "ob.eating()\n",
    "ob.body()\n",
    "ob1 = Carnivorous('Lion')\n",
    "ob1.eating()\n"
   ]
  },
  {
   "cell_type": "markdown",
   "metadata": {},
   "source": [
    "#### Accessing the constructor from child class"
   ]
  },
  {
   "cell_type": "code",
   "execution_count": 108,
   "metadata": {},
   "outputs": [
    {
     "name": "stdout",
     "output_type": "stream",
     "text": [
      "Human eats any food\n"
     ]
    }
   ],
   "source": [
    "class Animal():\n",
    "    def __init__(self,name):\n",
    "        self.name = name\n",
    "    def eating(self):\n",
    "        print(self.name,'eats any food')\n",
    "\n",
    "class Carnivorous(Animal):\n",
    "    def __init__(self,name):\n",
    "        #super().__init__(name)\n",
    "        Animal.__init__(self,name)\n",
    "        \n",
    "ob = Carnivorous('Human')\n",
    "ob.eating()"
   ]
  },
  {
   "cell_type": "code",
   "execution_count": 71,
   "metadata": {},
   "outputs": [
    {
     "name": "stdout",
     "output_type": "stream",
     "text": [
      "Rashmi\n",
      "Rashmi\n"
     ]
    }
   ],
   "source": [
    "class singleton():\n",
    "    instance = None\n",
    "    \n",
    "    def __init__(self):\n",
    "        if singleton.instance != None:\n",
    "            return None\n",
    "        else:\n",
    "            singleton.instance = 'Rashmi'\n",
    "        \n",
    "    \n",
    "    def initiate(self):\n",
    "        if singleton.instance == None:\n",
    "            singleton()\n",
    "        else:\n",
    "            return singleton.instance\n",
    "\n",
    "ob = singleton()\n",
    "print(ob.instance)\n",
    "ob1 = singleton()\n",
    "print(ob1.instance)"
   ]
  },
  {
   "cell_type": "code",
   "execution_count": 76,
   "metadata": {},
   "outputs": [
    {
     "name": "stdout",
     "output_type": "stream",
     "text": [
      "2112687764552 2112687764552\n",
      "[[1, 2, 3], [4, 5, 6], [7, 8, 9], [0, 9, 8]] [[1, 2, 3], [4, 5, 6], [7, 8, 9], [0, 9, 8]]\n"
     ]
    }
   ],
   "source": [
    "l = [[1,2,3],[4,5,6],[7,8,9]]\n",
    "#shallow copy\n",
    "l2 = l\n",
    "print(id(l),id(l2))\n",
    "l2.append([0,9,8])\n",
    "print(l,l2)"
   ]
  },
  {
   "cell_type": "code",
   "execution_count": 116,
   "metadata": {},
   "outputs": [
    {
     "name": "stdout",
     "output_type": "stream",
     "text": [
      "[1, 2, 3, 4, 5] 2112688910152 [1, 2, 3, 4, 5] 2112688910152\n"
     ]
    }
   ],
   "source": [
    "l = [1,2,3,4]\n",
    "#shallow copy\n",
    "l2 = l\n",
    "l2.append(5)\n",
    "print(l,id(l),l2,id(l2))"
   ]
  },
  {
   "cell_type": "code",
   "execution_count": 115,
   "metadata": {},
   "outputs": [
    {
     "name": "stdout",
     "output_type": "stream",
     "text": [
      "[1, 2, 3, 4] 2112688479624 [1, 2, 3, 4, 5] 2112688478408\n"
     ]
    }
   ],
   "source": [
    "l = [1,2,3,4]\n",
    "#deep copy\n",
    "l2 = l[:]\n",
    "l2.append(5)\n",
    "print(l,id(l),l2,id(l2))"
   ]
  },
  {
   "cell_type": "code",
   "execution_count": 114,
   "metadata": {},
   "outputs": [
    {
     "name": "stdout",
     "output_type": "stream",
     "text": [
      "[1, 2, 3, 4] 2112686782792 [1, 2, 3, 4, 5] 2112688477704\n"
     ]
    }
   ],
   "source": [
    "l = [1,2,3,4]\n",
    "#shallow copy\n",
    "l2 = copy.copy(l)\n",
    "l2.append(5)\n",
    "print(l,id(l),l2,id(l2))"
   ]
  },
  {
   "cell_type": "code",
   "execution_count": 82,
   "metadata": {},
   "outputs": [
    {
     "name": "stdout",
     "output_type": "stream",
     "text": [
      "2112686542408 2112688575496\n",
      "[[1, 2, 3], [4, 5, 6], [7, 8, 9]] [[1, 2, 3], [4, 5, 6], [7, 8, 9], [0, 9, 8]]\n",
      "2112686542408 2112688711880\n",
      "[[1, 2, 3], [4, 5, 6], [7, 8, 9]] [[1, 2, 3], [4, 5, 6], [7, 8, 9], [0, 9, 8]]\n"
     ]
    }
   ],
   "source": [
    "import copy\n",
    "l = [[1,2,3],[4,5,6],[7,8,9]]\n",
    "#acts like a deep copy when the elements are added to outer list\n",
    "l2 = copy.copy(l)\n",
    "print(id(l),id(l2))\n",
    "l2.append([0,9,8])\n",
    "print(l,l2)\n",
    "l = [[1,2,3],[4,5,6],[7,8,9]]\n",
    "l3 = copy.deepcopy(l)\n",
    "print(id(l),id(l3))\n",
    "l3.append([0,9,8])\n",
    "print(l,l3)"
   ]
  },
  {
   "cell_type": "code",
   "execution_count": 84,
   "metadata": {},
   "outputs": [
    {
     "name": "stdout",
     "output_type": "stream",
     "text": [
      "2112686540616 2112686542216\n",
      "[[1, 2, 3], [4, 5, 6], [7, 12, 9]] [[1, 2, 3], [4, 5, 6], [7, 12, 9]]\n",
      "2112687765000 2112686765960\n",
      "[[1, 2, 3], [4, 5, 6], [7, 8, 9]] [[1, 2, 3], [4, 5, 6], [7, 8, 9], [0, 9, 8]]\n"
     ]
    }
   ],
   "source": [
    "import copy\n",
    "l = [[1,2,3],[4,5,6],[7,8,9]]\n",
    "#acts like a shallow copy when element is changed in looped list\n",
    "l2 = copy.copy(l)\n",
    "print(id(l),id(l2))\n",
    "l2[2][1]=12\n",
    "print(l,l2)\n",
    "l = [[1,2,3],[4,5,6],[7,8,9]]\n",
    "l3 = copy.deepcopy(l)\n",
    "print(id(l),id(l3))\n",
    "l3.append([0,9,8])\n",
    "print(l,l3)"
   ]
  },
  {
   "cell_type": "code",
   "execution_count": 98,
   "metadata": {},
   "outputs": [
    {
     "name": "stdout",
     "output_type": "stream",
     "text": [
      "[[7, 8, 9], [4, 5, 6], [1, 2, 3]]\n",
      "after pop [1, 2, 3, 4, 5]\n",
      "[1, 2, 3, 4, 5, 6, 9, 8]\n",
      "[2, 3, 4, 5, 6]\n"
     ]
    },
    {
     "ename": "TypeError",
     "evalue": "'tuple' object does not support item assignment",
     "output_type": "error",
     "traceback": [
      "\u001b[1;31m---------------------------------------------------------------------------\u001b[0m",
      "\u001b[1;31mTypeError\u001b[0m                                 Traceback (most recent call last)",
      "\u001b[1;32m<ipython-input-98-694475093d83>\u001b[0m in \u001b[0;36m<module>\u001b[1;34m()\u001b[0m\n\u001b[0;32m     18\u001b[0m \u001b[0mprint\u001b[0m\u001b[1;33m(\u001b[0m\u001b[0ml\u001b[0m\u001b[1;33m)\u001b[0m\u001b[1;33m\u001b[0m\u001b[0m\n\u001b[0;32m     19\u001b[0m \u001b[0ml\u001b[0m \u001b[1;33m=\u001b[0m \u001b[1;33m[\u001b[0m\u001b[1;33m(\u001b[0m\u001b[1;36m1\u001b[0m\u001b[1;33m,\u001b[0m\u001b[1;36m2\u001b[0m\u001b[1;33m,\u001b[0m\u001b[1;36m3\u001b[0m\u001b[1;33m)\u001b[0m\u001b[1;33m,\u001b[0m\u001b[1;33m[\u001b[0m\u001b[1;36m234\u001b[0m\u001b[1;33m,\u001b[0m\u001b[1;36m123\u001b[0m\u001b[1;33m]\u001b[0m\u001b[1;33m]\u001b[0m\u001b[1;33m\u001b[0m\u001b[0m\n\u001b[1;32m---> 20\u001b[1;33m \u001b[0ml\u001b[0m\u001b[1;33m[\u001b[0m\u001b[1;36m0\u001b[0m\u001b[1;33m]\u001b[0m\u001b[1;33m[\u001b[0m\u001b[1;36m2\u001b[0m\u001b[1;33m]\u001b[0m \u001b[1;33m=\u001b[0m \u001b[1;36m4\u001b[0m\u001b[1;33m\u001b[0m\u001b[0m\n\u001b[0m\u001b[0;32m     21\u001b[0m \u001b[0mprint\u001b[0m\u001b[1;33m(\u001b[0m\u001b[0ml\u001b[0m\u001b[1;33m)\u001b[0m\u001b[1;33m\u001b[0m\u001b[0m\n",
      "\u001b[1;31mTypeError\u001b[0m: 'tuple' object does not support item assignment"
     ]
    }
   ],
   "source": [
    "l = [[1,2,3],[4,5,6],[7,8,9]]\n",
    "#it update the list\n",
    "l.sort(key = lambda x:x[2],reverse=True)\n",
    "print(l)\n",
    "#it creates the new list\n",
    "sorted(l,key = lambda x:x[2],reverse=True)\n",
    "l = [1,2,3,4,5,6]\n",
    "#mention index to be removed else by default last element will be removed\n",
    "l.pop()\n",
    "print('after pop',l)\n",
    "l = [1,2,3,4,5,6]\n",
    "l2 = [9,8]\n",
    "l.extend(l2)\n",
    "print(l)\n",
    "l = [1,2,3,4,5,6]\n",
    "#removes the data which is present in the list, else will throw error\n",
    "l.remove(1)\n",
    "print(l)\n",
    "l = [(1,2,3),[234,123]]\n",
    "l[0][2] = 4\n",
    "print(l)"
   ]
  },
  {
   "cell_type": "code",
   "execution_count": 97,
   "metadata": {},
   "outputs": [
    {
     "ename": "TypeError",
     "evalue": "'str' object does not support item assignment",
     "output_type": "error",
     "traceback": [
      "\u001b[1;31m---------------------------------------------------------------------------\u001b[0m",
      "\u001b[1;31mTypeError\u001b[0m                                 Traceback (most recent call last)",
      "\u001b[1;32m<ipython-input-97-a8ca4135e46d>\u001b[0m in \u001b[0;36m<module>\u001b[1;34m()\u001b[0m\n\u001b[0;32m      1\u001b[0m \u001b[0mc\u001b[0m \u001b[1;33m=\u001b[0m \u001b[1;34m'vinod'\u001b[0m\u001b[1;33m\u001b[0m\u001b[0m\n\u001b[1;32m----> 2\u001b[1;33m \u001b[0mc\u001b[0m\u001b[1;33m[\u001b[0m\u001b[1;36m2\u001b[0m\u001b[1;33m]\u001b[0m \u001b[1;33m=\u001b[0m \u001b[1;34m'm'\u001b[0m\u001b[1;33m\u001b[0m\u001b[0m\n\u001b[0m",
      "\u001b[1;31mTypeError\u001b[0m: 'str' object does not support item assignment"
     ]
    }
   ],
   "source": [
    "#string is a immutable object\n",
    "c = 'vinod'\n",
    "c[2] = 'm'"
   ]
  },
  {
   "cell_type": "code",
   "execution_count": 102,
   "metadata": {},
   "outputs": [
    {
     "name": "stdout",
     "output_type": "stream",
     "text": [
      "([1, 10, 3], (2, 3, 4))\n"
     ]
    },
    {
     "ename": "TypeError",
     "evalue": "'tuple' object does not support item assignment",
     "output_type": "error",
     "traceback": [
      "\u001b[1;31m---------------------------------------------------------------------------\u001b[0m",
      "\u001b[1;31mTypeError\u001b[0m                                 Traceback (most recent call last)",
      "\u001b[1;32m<ipython-input-102-dcb3d09604e2>\u001b[0m in \u001b[0;36m<module>\u001b[1;34m()\u001b[0m\n\u001b[0;32m      5\u001b[0m \u001b[0mt\u001b[0m\u001b[1;33m[\u001b[0m\u001b[1;36m0\u001b[0m\u001b[1;33m]\u001b[0m\u001b[1;33m[\u001b[0m\u001b[1;36m1\u001b[0m\u001b[1;33m]\u001b[0m\u001b[1;33m=\u001b[0m\u001b[1;36m10\u001b[0m\u001b[1;33m\u001b[0m\u001b[0m\n\u001b[0;32m      6\u001b[0m \u001b[0mprint\u001b[0m\u001b[1;33m(\u001b[0m\u001b[0mt\u001b[0m\u001b[1;33m)\u001b[0m\u001b[1;33m\u001b[0m\u001b[0m\n\u001b[1;32m----> 7\u001b[1;33m \u001b[0mt\u001b[0m\u001b[1;33m[\u001b[0m\u001b[1;36m1\u001b[0m\u001b[1;33m]\u001b[0m\u001b[1;33m[\u001b[0m\u001b[1;36m2\u001b[0m\u001b[1;33m]\u001b[0m\u001b[1;33m=\u001b[0m\u001b[1;36m5\u001b[0m\u001b[1;33m\u001b[0m\u001b[0m\n\u001b[0m\u001b[0;32m      8\u001b[0m \u001b[0mprint\u001b[0m\u001b[1;33m(\u001b[0m\u001b[0mt\u001b[0m\u001b[1;33m)\u001b[0m\u001b[1;33m\u001b[0m\u001b[0m\n",
      "\u001b[1;31mTypeError\u001b[0m: 'tuple' object does not support item assignment"
     ]
    }
   ],
   "source": [
    "t = (1,2,3,4)\n",
    "#it gives error as tupple immutable\n",
    "#t[1] = 10\n",
    "t = ([1,2,3],(2,3,4))\n",
    "t[0][1]=10\n",
    "print(t)\n",
    "t[1][2]=5\n",
    "print(t)"
   ]
  },
  {
   "cell_type": "code",
   "execution_count": null,
   "metadata": {},
   "outputs": [],
   "source": []
  }
 ],
 "metadata": {
  "kernelspec": {
   "display_name": "Python 3",
   "language": "python",
   "name": "python3"
  },
  "language_info": {
   "codemirror_mode": {
    "name": "ipython",
    "version": 3
   },
   "file_extension": ".py",
   "mimetype": "text/x-python",
   "name": "python",
   "nbconvert_exporter": "python",
   "pygments_lexer": "ipython3",
   "version": "3.7.0"
  }
 },
 "nbformat": 4,
 "nbformat_minor": 2
}
