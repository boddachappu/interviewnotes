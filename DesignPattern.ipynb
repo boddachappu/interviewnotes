{
 "cells": [
  {
   "cell_type": "markdown",
   "metadata": {},
   "source": [
    "##### \n",
    "Creational : Builder, Factory, Singleton\n",
    "Structural : Facade, Adaptor, Decorator\n",
    "Behavioural : Iterator, Commander"
   ]
  },
  {
   "cell_type": "markdown",
   "metadata": {},
   "source": [
    "## Builder Pattern"
   ]
  },
  {
   "cell_type": "code",
   "execution_count": 15,
   "metadata": {},
   "outputs": [
    {
     "name": "stdout",
     "output_type": "stream",
     "text": [
      "Ordinary builder:\n",
      "<ul>\n",
      "  <li>\n",
      "    hello\n",
      "  </li>\n",
      "  <li>\n",
      "    world\n",
      "  </li>\n",
      "</ul>\n",
      "Fluent builder:\n",
      "<ul>\n",
      "  <li>\n",
      "    hello\n",
      "  </li>\n",
      "  <li>\n",
      "    world\n",
      "  </li>\n",
      "</ul>\n"
     ]
    }
   ],
   "source": [
    "class HtmlElement:\n",
    "    indent_size = 2\n",
    "\n",
    "    def __init__(self, name=\"\", text=\"\"):\n",
    "        self.name = name\n",
    "        self.text = text\n",
    "        self.elements = []\n",
    "\n",
    "    def __str(self, indent):\n",
    "        lines = []\n",
    "        i = ' ' * (indent * self.indent_size)\n",
    "        lines.append(f'{i}<{self.name}>')\n",
    "\n",
    "        if self.text:\n",
    "            i1 = ' ' * ((indent + 1) * self.indent_size)\n",
    "            lines.append(f'{i1}{self.text}')\n",
    "\n",
    "        for e in self.elements:\n",
    "            lines.append(e.__str(indent + 1))\n",
    "\n",
    "        lines.append(f'{i}</{self.name}>')\n",
    "        return '\\n'.join(lines)\n",
    "\n",
    "    def __str__(self):\n",
    "        return self.__str(0)\n",
    "\n",
    "    @staticmethod\n",
    "    def create(name):\n",
    "        return HtmlBuilder(name)\n",
    "\n",
    "\n",
    "class HtmlBuilder:\n",
    "    __root = HtmlElement()\n",
    "\n",
    "    def __init__(self, root_name):\n",
    "        self.root_name = root_name\n",
    "        self.__root.name = root_name\n",
    "\n",
    "    # not fluent\n",
    "    def add_child(self, child_name, child_text):\n",
    "        self.__root.elements.append(\n",
    "            HtmlElement(child_name, child_text)\n",
    "        )\n",
    "\n",
    "    # fluent\n",
    "    def add_child_fluent(self, child_name, child_text):\n",
    "        self.__root.elements.append(\n",
    "            HtmlElement(child_name, child_text)\n",
    "        )\n",
    "        return self\n",
    "\n",
    "    def clear(self):\n",
    "        self.__root = HtmlElement(name=self.root_name)\n",
    "\n",
    "    def __str__(self):\n",
    "        return str(self.__root)\n",
    "\n",
    "\n",
    "# ordinary non-fluent builder\n",
    "# builder = HtmlBuilder('ul')\n",
    "builder = HtmlElement.create('ul')\n",
    "builder.add_child('li', 'hello')\n",
    "builder.add_child('li', 'world')\n",
    "print('Ordinary builder:')\n",
    "print(builder)\n",
    "\n",
    "# fluent builder\n",
    "builder.clear()\n",
    "builder.add_child_fluent('li', 'hello').add_child_fluent('li', 'world')\n",
    "print('Fluent builder:')\n",
    "print(builder)\n"
   ]
  },
  {
   "cell_type": "code",
   "execution_count": 19,
   "metadata": {},
   "outputs": [
    {
     "name": "stdout",
     "output_type": "stream",
     "text": [
      "Creating an instance of Person\n",
      "Address: 123 London Road, SW12BC, London\n",
      "Employed at Fabrikam as a SW12BC earning 123000\n",
      "Creating an instance of Person\n",
      "Address: None, None, None\n",
      "Employed at None as a None earning None\n"
     ]
    }
   ],
   "source": [
    "class Person:\n",
    "    def __init__(self):\n",
    "        print('Creating an instance of Person')\n",
    "        # address\n",
    "        self.street_address = None\n",
    "        self.postcode = None\n",
    "        self.city = None\n",
    "        # employment info\n",
    "        self.company_name = None\n",
    "        self.position = None\n",
    "        self.annual_income = None\n",
    "\n",
    "    def __str__(self) -> str:\n",
    "        return f'Address: {self.street_address}, {self.postcode}, {self.city}\\n' +\\\n",
    "            f'Employed at {self.company_name} as a {self.postcode} earning {self.annual_income}'\n",
    "\n",
    "\n",
    "class PersonBuilder:  # facade\n",
    "    def __init__(self, person=None):\n",
    "        if person is None:\n",
    "            self.person = Person()\n",
    "        else:\n",
    "            self.person = person\n",
    "\n",
    "    @property\n",
    "    def lives(self):\n",
    "        return PersonAddressBuilder(self.person)\n",
    "\n",
    "    @property\n",
    "    def works(self):\n",
    "        return PersonJobBuilder(self.person)\n",
    "\n",
    "    def build(self):\n",
    "        return self.person\n",
    "\n",
    "\n",
    "class PersonJobBuilder(PersonBuilder):\n",
    "    def __init__(self, person):\n",
    "        super().__init__(person)\n",
    "\n",
    "    def at(self, company_name):\n",
    "        self.person.company_name = company_name\n",
    "        return self\n",
    "\n",
    "    def as_a(self, position):\n",
    "        self.person.position = position\n",
    "        return self\n",
    "\n",
    "    def earning(self, annual_income):\n",
    "        self.person.annual_income = annual_income\n",
    "        return self\n",
    "\n",
    "\n",
    "class PersonAddressBuilder(PersonBuilder):\n",
    "    def __init__(self, person):\n",
    "        super().__init__(person)\n",
    "\n",
    "    def at(self, street_address):\n",
    "        self.person.street_address = street_address\n",
    "        return self\n",
    "\n",
    "    def with_postcode(self, postcode):\n",
    "        self.person.postcode = postcode\n",
    "        return self\n",
    "\n",
    "    def in_city(self, city):\n",
    "        self.person.city = city\n",
    "        return self\n",
    "\n",
    "\n",
    "if __name__ == '__main__':\n",
    "    pb = PersonBuilder()\n",
    "    p = pb\\\n",
    "        .lives\\\n",
    "            .at('123 London Road')\\\n",
    "            .in_city('London')\\\n",
    "            .with_postcode('SW12BC')\\\n",
    "        .works\\\n",
    "            .at('Fabrikam')\\\n",
    "            .as_a('Engineer')\\\n",
    "            .earning(123000)\\\n",
    "        .build()\n",
    "    print(p)\n",
    "    person2 = PersonBuilder().build()\n",
    "    print(person2)\n"
   ]
  },
  {
   "cell_type": "markdown",
   "metadata": {},
   "source": [
    "## Facade Pattern : \n",
    "Structural pattern:\n",
    "Facade pattern: Facade is a structural design pattern that provides a simplified interface to a library, a framework, or any other complex set of classes.\n",
    "Problem: Ordinarily, you’d need to initialize all of those objects, keep track of dependencies, execute methods in the correct order, and so on.\n",
    "Solution: A facade is a class that provides a simple interface to a complex subsystem which contains lots of moving parts. A facade might provide limited functionality in comparison to working with the subsystem directly. However, it includes only those features that clients really care about."
   ]
  },
  {
   "cell_type": "code",
   "execution_count": 5,
   "metadata": {},
   "outputs": [
    {
     "name": "stdout",
     "output_type": "stream",
     "text": [
      "Bangalore\n",
      "9:00 to 6:00\n"
     ]
    }
   ],
   "source": [
    "class Timings():\n",
    "    def schooltimings(self):\n",
    "        return '9:00 to 6:00'\n",
    "    \n",
    "class Address:\n",
    "    def address(self):\n",
    "        return 'Bangalore'\n",
    "\n",
    "class Student():\n",
    "    def __init__(self,name):\n",
    "        self.name = name\n",
    "    add  = Address()\n",
    "    t = Timings()\n",
    "    \n",
    "    def addr(self):\n",
    "        return self.add.address()\n",
    "    def time(self):\n",
    "        return self.t.schooltimings()\n",
    "    \n",
    "ob = Student('vinod')\n",
    "print(ob.addr())\n",
    "print(ob.time())"
   ]
  },
  {
   "cell_type": "code",
   "execution_count": 13,
   "metadata": {},
   "outputs": [
    {
     "name": "stdout",
     "output_type": "stream",
     "text": [
      "Area of a Rectangle 30\n",
      "Area of a Square 25\n"
     ]
    }
   ],
   "source": [
    "class Rectangle():\n",
    "    def __init__(self,a,b):\n",
    "        self.l = a\n",
    "        self.b = b\n",
    "\n",
    "class Square():\n",
    "    def __init__(self,side):\n",
    "        self.side = side\n",
    "        \n",
    "class Adaptor():\n",
    "    def __init__(self,ob):\n",
    "        self.l = ob.side\n",
    "        self.b = ob.side\n",
    "        \n",
    "class Area():\n",
    "    def __init__(self,ob):\n",
    "        self.l = ob.l\n",
    "        self.b = ob.b\n",
    "    \n",
    "    def area(self):\n",
    "        return self.l*self.b\n",
    "\n",
    "ob1 = Rectangle(5,6)\n",
    "ob2 = Area(ob1)\n",
    "print('Area of a Rectangle',ob2.area())\n",
    "\n",
    "os = Square(5)\n",
    "os1 = Adaptor(os)\n",
    "os2 = Area(os1)\n",
    "print('Area of a Square',os2.area())\n"
   ]
  },
  {
   "cell_type": "markdown",
   "metadata": {},
   "source": [
    "## @property \n",
    "@property is a built-in decorator to make an attribute a property.\n",
    "1)    check got_marks_incorrect.txt. Even though name is updated, got_marks attribute isn’t.\n",
    "2)    check got_marks_method.txt. So we create a method called got_marks instead of got_marks attribute. It returns correctly. But the usage in code is st.gotmarks() instead of st.gotmarks. User needs to change the code that exists. Attribute changed into a method.\n",
    "3)    Check got_marks_property. Here we use the @property decorator and make got_marks attribute a property.\n",
    "@property is easy way of making readonly property\n",
    "property() is a method that returns a property object.\n",
    "1)    properties will consist of getters or both.\n",
    "2)    Check using_property().txt\n",
    "3)    Check using_readonly.txt. A property is called read-only when it doesn’t have a setter. It doesn’t allow value to be set. This is equivalent to using @property decorator.\n",
    "Documentation says it's just a shortcut for creating readonly properties. So\n",
    "@property\n",
    "def x(self):\n",
    "    return self._x\n",
    "is equivalent to\n",
    "def getx(self):\n",
    "    return self._x\n",
    "x = property(getx)\n",
    "There are decorators for setter also:\n",
    "Check setter_decorator.txt\n",
    "\n",
    " "
   ]
  },
  {
   "cell_type": "markdown",
   "metadata": {},
   "source": [
    "## property()"
   ]
  },
  {
   "cell_type": "code",
   "execution_count": 21,
   "metadata": {},
   "outputs": [
    {
     "name": "stdout",
     "output_type": "stream",
     "text": [
      "Jaki\n",
      "25\n",
      "Jaki obtained 25 marks\n",
      "Rashmi obtained 30 marks\n"
     ]
    }
   ],
   "source": [
    "class Student:\n",
    "    def __init__(self, name, marks):\n",
    "        self.name = name\n",
    "        self.marks = marks\n",
    "\n",
    "    def gotmarks_getter(self):\n",
    "        return self.name + ' obtained ' + self.marks + ' marks'\n",
    "\n",
    "    def gotmarks_setter(self, sentence):\n",
    "        name, rand, marks = sentence.split(' ')\n",
    "        self.name = name\n",
    "        self.marks = marks\n",
    "\n",
    "    gotmarks = property(gotmarks_getter, gotmarks_setter)\n",
    "\n",
    "st = Student(\"Jaki\", \"25\")\n",
    "\n",
    "print(st.name)\n",
    "print(st.marks)\n",
    "print(st.gotmarks)\n",
    "\n",
    "st.gotmarks = \"Rashmi obtained 30\"\n",
    "\n",
    "print(st.gotmarks)"
   ]
  },
  {
   "cell_type": "markdown",
   "metadata": {},
   "source": [
    "## setter decorator : @ob.setter"
   ]
  },
  {
   "cell_type": "code",
   "execution_count": 22,
   "metadata": {},
   "outputs": [
    {
     "name": "stdout",
     "output_type": "stream",
     "text": [
      "Jaki\n",
      "25\n",
      "Jaki obtained 25 marks\n",
      "Rashmi obtained 30 marks\n"
     ]
    }
   ],
   "source": [
    "class Student:\n",
    "    def __init__(self, name, marks):\n",
    "        self.name = name\n",
    "        self.marks = marks\n",
    "\n",
    "    @property\n",
    "    def gotmarks(self):\n",
    "        return self.name + ' obtained ' + self.marks + ' marks'\n",
    "\n",
    "    @gotmarks.setter\n",
    "    def gotmarks(self, sentence):\n",
    "        name, rand, marks = sentence.split(' ')\n",
    "        self.name = name\n",
    "        self.marks = marks\n",
    "\n",
    "st = Student(\"Jaki\", \"25\")\n",
    "\n",
    "print(st.name)\n",
    "print(st.marks)\n",
    "print(st.gotmarks)\n",
    "\n",
    "st.gotmarks = \"Rashmi obtained 30\"\n",
    "\n",
    "print(st.gotmarks)"
   ]
  },
  {
   "cell_type": "code",
   "execution_count": 39,
   "metadata": {},
   "outputs": [
    {
     "name": "stdout",
     "output_type": "stream",
     "text": [
      "car which is BMW\n",
      "BMW\n"
     ]
    }
   ],
   "source": [
    "class Car(object):\n",
    "    __engine_name = 'BMW'\n",
    "    \n",
    "    def __init__(self,name):\n",
    "        self.name = name\n",
    "    \n",
    "    def disp(self):\n",
    "        return f'car which is {self.name}'\n",
    "    \n",
    "ob = Car('BMW')\n",
    "print(ob.disp())\n",
    "print(ob._Car__engine_name)"
   ]
  },
  {
   "cell_type": "code",
   "execution_count": null,
   "metadata": {},
   "outputs": [],
   "source": []
  }
 ],
 "metadata": {
  "kernelspec": {
   "display_name": "Python 3",
   "language": "python",
   "name": "python3"
  },
  "language_info": {
   "codemirror_mode": {
    "name": "ipython",
    "version": 3
   },
   "file_extension": ".py",
   "mimetype": "text/x-python",
   "name": "python",
   "nbconvert_exporter": "python",
   "pygments_lexer": "ipython3",
   "version": "3.7.0"
  }
 },
 "nbformat": 4,
 "nbformat_minor": 2
}
