{
 "cells": [
  {
   "cell_type": "markdown",
   "metadata": {},
   "source": [
    "# OOPS"
   ]
  },
  {
   "cell_type": "markdown",
   "metadata": {},
   "source": [
    "#### polymorphism : it's a opps characteristic where objects have same definition but performs different operation"
   ]
  },
  {
   "cell_type": "code",
   "execution_count": 5,
   "metadata": {},
   "outputs": [
    {
     "name": "stdout",
     "output_type": "stream",
     "text": [
      "Human eats any food\n",
      "Lion eats only non veg\n"
     ]
    }
   ],
   "source": [
    "class Animal():\n",
    "    def __init__(self,name):\n",
    "        self.name = name\n",
    "    def eating(self):\n",
    "        print(self.name,'eats any food') \n",
    "\n",
    "class Carnivorous(Animal):\n",
    "    def __init__(self,name):\n",
    "        self.name = name\n",
    "    def eating(self):\n",
    "        print(self.name,'eats only non veg')\n",
    "        \n",
    "ob = Animal('Human')\n",
    "ob.eating()\n",
    "ob2 = Carnivorous('Lion')\n",
    "ob2.eating()"
   ]
  },
  {
   "cell_type": "markdown",
   "metadata": {},
   "source": [
    "#### Abstraction : The process of hiding the data from the user"
   ]
  },
  {
   "cell_type": "code",
   "execution_count": 106,
   "metadata": {},
   "outputs": [
    {
     "name": "stdout",
     "output_type": "stream",
     "text": [
      "12345679\n"
     ]
    },
    {
     "data": {
      "text/plain": [
       "('vinod', 12345678)"
      ]
     },
     "execution_count": 106,
     "metadata": {},
     "output_type": "execute_result"
    }
   ],
   "source": [
    "class Bank:\n",
    "    __accout_number = None\n",
    "    \n",
    "    def __init__(self,no,name):\n",
    "        self.name = name\n",
    "        self.no = no\n",
    "    \n",
    "    #instance methods are called only with objects, it throws error when it is called with class name\n",
    "    def cal(self,name):\n",
    "        #the '__' variable are accessed only inside the class\n",
    "        return self.name, self.__accout_number\n",
    "    \n",
    "    #we can call static methods with the help of objects and class names\n",
    "    @staticmethod\n",
    "    def display(bank):\n",
    "        bank.__accout_number = bank.no\n",
    "        return bank.__accout_number+1\n",
    "    \n",
    "    \n",
    "\n",
    "    \n",
    "ob = Bank(12345678,'vinod')\n",
    "print(Bank.display(ob))\n",
    "#Bank.cal('vinod')\n",
    "ob.cal('vinod')\n",
    "#when we tried to access the '__' var it throws error that \"'Bank' object has no attribute '__accout_number'\"\n",
    "#print(ob.__accout_number)"
   ]
  },
  {
   "cell_type": "markdown",
   "metadata": {},
   "source": [
    "#### Inheritance : The oops concept one class derivers the properties of another class"
   ]
  },
  {
   "cell_type": "code",
   "execution_count": 25,
   "metadata": {},
   "outputs": [
    {
     "name": "stdout",
     "output_type": "stream",
     "text": [
      "Lion eats any food\n"
     ]
    }
   ],
   "source": [
    "#single Inheritance\n",
    "class Animal():\n",
    "    def __init__(self,name):\n",
    "        self.name = name\n",
    "    def eating(self):\n",
    "        print(self.name,'eats any food')\n",
    "\n",
    "class Carnivorous(Animal,object):\n",
    "    def __init__(self,name):\n",
    "        self.name = name\n",
    "\n",
    "ob2 = Carnivorous('Lion')\n",
    "ob2.eating()"
   ]
  },
  {
   "cell_type": "markdown",
   "metadata": {},
   "source": [
    "##### MRO : Method Resolution Order descibes in which order the class will be called during inheritance"
   ]
  },
  {
   "cell_type": "code",
   "execution_count": 26,
   "metadata": {},
   "outputs": [
    {
     "data": {
      "text/plain": [
       "[__main__.Carnivorous, __main__.Animal, object]"
      ]
     },
     "execution_count": 26,
     "metadata": {},
     "output_type": "execute_result"
    }
   ],
   "source": [
    "Carnivorous.mro()"
   ]
  },
  {
   "cell_type": "code",
   "execution_count": 34,
   "metadata": {},
   "outputs": [
    {
     "name": "stdout",
     "output_type": "stream",
     "text": [
      "vinod eats any food\n",
      "vinod has two legs and two hands\n"
     ]
    },
    {
     "data": {
      "text/plain": [
       "[__main__.Human, __main__.Animal, __main__.Carnivorous, object]"
      ]
     },
     "execution_count": 34,
     "metadata": {},
     "output_type": "execute_result"
    }
   ],
   "source": [
    "#Multiple Inheritance : child class inherts different parent class\n",
    "class Animal():\n",
    "    def __init__(self,name):\n",
    "        self.name = name\n",
    "    def eating(self):\n",
    "        print(self.name,'eats any food')\n",
    "\n",
    "class Carnivorous():\n",
    "    def __init__(self,name):\n",
    "        self.name = name\n",
    "        \n",
    "class Human(Animal,Carnivorous):\n",
    "    def __init__(self,name):\n",
    "        self.name = name\n",
    "    def body(self):\n",
    "        print(self.name,'has two legs and two hands')\n",
    "\n",
    "ob = Human('vinod')\n",
    "ob.eating()\n",
    "ob.body()\n",
    "Human.mro()"
   ]
  },
  {
   "cell_type": "code",
   "execution_count": 38,
   "metadata": {},
   "outputs": [
    {
     "name": "stdout",
     "output_type": "stream",
     "text": [
      "vinod eats non veg food\n",
      "vinod has two legs and two hands\n",
      "Lion eats non veg food\n"
     ]
    }
   ],
   "source": [
    "#Multilevel : child and grand child relationship\n",
    "\n",
    "#Multiple Inheritance\n",
    "class Animal():\n",
    "    def __init__(self,name):\n",
    "        self.name = name\n",
    "    def eating(self):\n",
    "        print(self.name,'eats any food')\n",
    "\n",
    "class Carnivorous(Animal):\n",
    "    def __init__(self,name):\n",
    "        self.name = name\n",
    "    def eating(self):\n",
    "        print(self.name,'eats non veg food')\n",
    "        \n",
    "class Human(Carnivorous):\n",
    "    def __init__(self,name):\n",
    "        self.name = name\n",
    "    def body(self):\n",
    "        print(self.name,'has two legs and two hands')\n",
    "\n",
    "ob = Human('vinod')\n",
    "ob.eating()\n",
    "ob.body()\n",
    "ob1 = Carnivorous('Lion')\n",
    "ob1.eating()\n"
   ]
  },
  {
   "cell_type": "markdown",
   "metadata": {},
   "source": [
    "#### Accessing the constructor from child class"
   ]
  },
  {
   "cell_type": "code",
   "execution_count": 108,
   "metadata": {},
   "outputs": [
    {
     "name": "stdout",
     "output_type": "stream",
     "text": [
      "Human eats any food\n"
     ]
    }
   ],
   "source": [
    "class Animal():\n",
    "    def __init__(self,name):\n",
    "        self.name = name\n",
    "    def eating(self):\n",
    "        print(self.name,'eats any food')\n",
    "\n",
    "class Carnivorous(Animal):\n",
    "    def __init__(self,name):\n",
    "        #super().__init__(name)\n",
    "        Animal.__init__(self,name)\n",
    "        \n",
    "ob = Carnivorous('Human')\n",
    "ob.eating()"
   ]
  },
  {
   "cell_type": "code",
   "execution_count": 71,
   "metadata": {},
   "outputs": [
    {
     "name": "stdout",
     "output_type": "stream",
     "text": [
      "Rashmi\n",
      "Rashmi\n"
     ]
    }
   ],
   "source": [
    "class singleton():\n",
    "    instance = None\n",
    "    \n",
    "    def __init__(self):\n",
    "        if singleton.instance != None:\n",
    "            return None\n",
    "        else:\n",
    "            singleton.instance = 'Rashmi'\n",
    "        \n",
    "    \n",
    "    def initiate(self):\n",
    "        if singleton.instance == None:\n",
    "            singleton()\n",
    "        else:\n",
    "            return singleton.instance\n",
    "\n",
    "ob = singleton()\n",
    "print(ob.instance)\n",
    "ob1 = singleton()\n",
    "print(ob1.instance)"
   ]
  },
  {
   "cell_type": "code",
   "execution_count": 76,
   "metadata": {},
   "outputs": [
    {
     "name": "stdout",
     "output_type": "stream",
     "text": [
      "2112687764552 2112687764552\n",
      "[[1, 2, 3], [4, 5, 6], [7, 8, 9], [0, 9, 8]] [[1, 2, 3], [4, 5, 6], [7, 8, 9], [0, 9, 8]]\n"
     ]
    }
   ],
   "source": [
    "l = [[1,2,3],[4,5,6],[7,8,9]]\n",
    "#shallow copy\n",
    "l2 = l\n",
    "print(id(l),id(l2))\n",
    "l2.append([0,9,8])\n",
    "print(l,l2)"
   ]
  },
  {
   "cell_type": "code",
   "execution_count": 116,
   "metadata": {},
   "outputs": [
    {
     "name": "stdout",
     "output_type": "stream",
     "text": [
      "[1, 2, 3, 4, 5] 2112688910152 [1, 2, 3, 4, 5] 2112688910152\n"
     ]
    }
   ],
   "source": [
    "l = [1,2,3,4]\n",
    "#shallow copy\n",
    "l2 = l\n",
    "l2.append(5)\n",
    "print(l,id(l),l2,id(l2))"
   ]
  },
  {
   "cell_type": "code",
   "execution_count": 115,
   "metadata": {},
   "outputs": [
    {
     "name": "stdout",
     "output_type": "stream",
     "text": [
      "[1, 2, 3, 4] 2112688479624 [1, 2, 3, 4, 5] 2112688478408\n"
     ]
    }
   ],
   "source": [
    "l = [1,2,3,4]\n",
    "#deep copy\n",
    "l2 = l[:]\n",
    "l2.append(5)\n",
    "print(l,id(l),l2,id(l2))"
   ]
  },
  {
   "cell_type": "code",
   "execution_count": 114,
   "metadata": {},
   "outputs": [
    {
     "name": "stdout",
     "output_type": "stream",
     "text": [
      "[1, 2, 3, 4] 2112686782792 [1, 2, 3, 4, 5] 2112688477704\n"
     ]
    }
   ],
   "source": [
    "l = [1,2,3,4]\n",
    "#shallow copy\n",
    "l2 = copy.copy(l)\n",
    "l2.append(5)\n",
    "print(l,id(l),l2,id(l2))"
   ]
  },
  {
   "cell_type": "code",
   "execution_count": 82,
   "metadata": {},
   "outputs": [
    {
     "name": "stdout",
     "output_type": "stream",
     "text": [
      "2112686542408 2112688575496\n",
      "[[1, 2, 3], [4, 5, 6], [7, 8, 9]] [[1, 2, 3], [4, 5, 6], [7, 8, 9], [0, 9, 8]]\n",
      "2112686542408 2112688711880\n",
      "[[1, 2, 3], [4, 5, 6], [7, 8, 9]] [[1, 2, 3], [4, 5, 6], [7, 8, 9], [0, 9, 8]]\n"
     ]
    }
   ],
   "source": [
    "import copy\n",
    "l = [[1,2,3],[4,5,6],[7,8,9]]\n",
    "#acts like a deep copy when the elements are added to outer list\n",
    "l2 = copy.copy(l)\n",
    "print(id(l),id(l2))\n",
    "l2.append([0,9,8])\n",
    "print(l,l2)\n",
    "l = [[1,2,3],[4,5,6],[7,8,9]]\n",
    "l3 = copy.deepcopy(l)\n",
    "print(id(l),id(l3))\n",
    "l3.append([0,9,8])\n",
    "print(l,l3)"
   ]
  },
  {
   "cell_type": "code",
   "execution_count": 84,
   "metadata": {},
   "outputs": [
    {
     "name": "stdout",
     "output_type": "stream",
     "text": [
      "2112686540616 2112686542216\n",
      "[[1, 2, 3], [4, 5, 6], [7, 12, 9]] [[1, 2, 3], [4, 5, 6], [7, 12, 9]]\n",
      "2112687765000 2112686765960\n",
      "[[1, 2, 3], [4, 5, 6], [7, 8, 9]] [[1, 2, 3], [4, 5, 6], [7, 8, 9], [0, 9, 8]]\n"
     ]
    }
   ],
   "source": [
    "import copy\n",
    "l = [[1,2,3],[4,5,6],[7,8,9]]\n",
    "#acts like a shallow copy when element is changed in looped list\n",
    "l2 = copy.copy(l)\n",
    "print(id(l),id(l2))\n",
    "l2[2][1]=12\n",
    "print(l,l2)\n",
    "l = [[1,2,3],[4,5,6],[7,8,9]]\n",
    "l3 = copy.deepcopy(l)\n",
    "print(id(l),id(l3))\n",
    "l3.append([0,9,8])\n",
    "print(l,l3)"
   ]
  },
  {
   "cell_type": "code",
   "execution_count": 98,
   "metadata": {},
   "outputs": [
    {
     "name": "stdout",
     "output_type": "stream",
     "text": [
      "[[7, 8, 9], [4, 5, 6], [1, 2, 3]]\n",
      "after pop [1, 2, 3, 4, 5]\n",
      "[1, 2, 3, 4, 5, 6, 9, 8]\n",
      "[2, 3, 4, 5, 6]\n"
     ]
    },
    {
     "ename": "TypeError",
     "evalue": "'tuple' object does not support item assignment",
     "output_type": "error",
     "traceback": [
      "\u001b[1;31m---------------------------------------------------------------------------\u001b[0m",
      "\u001b[1;31mTypeError\u001b[0m                                 Traceback (most recent call last)",
      "\u001b[1;32m<ipython-input-98-694475093d83>\u001b[0m in \u001b[0;36m<module>\u001b[1;34m()\u001b[0m\n\u001b[0;32m     18\u001b[0m \u001b[0mprint\u001b[0m\u001b[1;33m(\u001b[0m\u001b[0ml\u001b[0m\u001b[1;33m)\u001b[0m\u001b[1;33m\u001b[0m\u001b[0m\n\u001b[0;32m     19\u001b[0m \u001b[0ml\u001b[0m \u001b[1;33m=\u001b[0m \u001b[1;33m[\u001b[0m\u001b[1;33m(\u001b[0m\u001b[1;36m1\u001b[0m\u001b[1;33m,\u001b[0m\u001b[1;36m2\u001b[0m\u001b[1;33m,\u001b[0m\u001b[1;36m3\u001b[0m\u001b[1;33m)\u001b[0m\u001b[1;33m,\u001b[0m\u001b[1;33m[\u001b[0m\u001b[1;36m234\u001b[0m\u001b[1;33m,\u001b[0m\u001b[1;36m123\u001b[0m\u001b[1;33m]\u001b[0m\u001b[1;33m]\u001b[0m\u001b[1;33m\u001b[0m\u001b[0m\n\u001b[1;32m---> 20\u001b[1;33m \u001b[0ml\u001b[0m\u001b[1;33m[\u001b[0m\u001b[1;36m0\u001b[0m\u001b[1;33m]\u001b[0m\u001b[1;33m[\u001b[0m\u001b[1;36m2\u001b[0m\u001b[1;33m]\u001b[0m \u001b[1;33m=\u001b[0m \u001b[1;36m4\u001b[0m\u001b[1;33m\u001b[0m\u001b[0m\n\u001b[0m\u001b[0;32m     21\u001b[0m \u001b[0mprint\u001b[0m\u001b[1;33m(\u001b[0m\u001b[0ml\u001b[0m\u001b[1;33m)\u001b[0m\u001b[1;33m\u001b[0m\u001b[0m\n",
      "\u001b[1;31mTypeError\u001b[0m: 'tuple' object does not support item assignment"
     ]
    }
   ],
   "source": [
    "l = [[1,2,3],[4,5,6],[7,8,9]]\n",
    "#it update the list\n",
    "l.sort(key = lambda x:x[2],reverse=True)\n",
    "print(l)\n",
    "#it creates the new list\n",
    "sorted(l,key = lambda x:x[2],reverse=True)\n",
    "l = [1,2,3,4,5,6]\n",
    "#mention index to be removed else by default last element will be removed\n",
    "l.pop()\n",
    "print('after pop',l)\n",
    "l = [1,2,3,4,5,6]\n",
    "l2 = [9,8]\n",
    "l.extend(l2)\n",
    "print(l)\n",
    "l = [1,2,3,4,5,6]\n",
    "#removes the data which is present in the list, else will throw error\n",
    "l.remove(1)\n",
    "print(l)\n",
    "l = [(1,2,3),[234,123]]\n",
    "l[0][2] = 4\n",
    "print(l)"
   ]
  },
  {
   "cell_type": "code",
   "execution_count": 97,
   "metadata": {},
   "outputs": [
    {
     "ename": "TypeError",
     "evalue": "'str' object does not support item assignment",
     "output_type": "error",
     "traceback": [
      "\u001b[1;31m---------------------------------------------------------------------------\u001b[0m",
      "\u001b[1;31mTypeError\u001b[0m                                 Traceback (most recent call last)",
      "\u001b[1;32m<ipython-input-97-a8ca4135e46d>\u001b[0m in \u001b[0;36m<module>\u001b[1;34m()\u001b[0m\n\u001b[0;32m      1\u001b[0m \u001b[0mc\u001b[0m \u001b[1;33m=\u001b[0m \u001b[1;34m'vinod'\u001b[0m\u001b[1;33m\u001b[0m\u001b[0m\n\u001b[1;32m----> 2\u001b[1;33m \u001b[0mc\u001b[0m\u001b[1;33m[\u001b[0m\u001b[1;36m2\u001b[0m\u001b[1;33m]\u001b[0m \u001b[1;33m=\u001b[0m \u001b[1;34m'm'\u001b[0m\u001b[1;33m\u001b[0m\u001b[0m\n\u001b[0m",
      "\u001b[1;31mTypeError\u001b[0m: 'str' object does not support item assignment"
     ]
    }
   ],
   "source": [
    "#string is a immutable object\n",
    "c = 'vinod'\n",
    "c[2] = 'm'"
   ]
  },
  {
   "cell_type": "code",
   "execution_count": 102,
   "metadata": {},
   "outputs": [
    {
     "name": "stdout",
     "output_type": "stream",
     "text": [
      "([1, 10, 3], (2, 3, 4))\n"
     ]
    },
    {
     "ename": "TypeError",
     "evalue": "'tuple' object does not support item assignment",
     "output_type": "error",
     "traceback": [
      "\u001b[1;31m---------------------------------------------------------------------------\u001b[0m",
      "\u001b[1;31mTypeError\u001b[0m                                 Traceback (most recent call last)",
      "\u001b[1;32m<ipython-input-102-dcb3d09604e2>\u001b[0m in \u001b[0;36m<module>\u001b[1;34m()\u001b[0m\n\u001b[0;32m      5\u001b[0m \u001b[0mt\u001b[0m\u001b[1;33m[\u001b[0m\u001b[1;36m0\u001b[0m\u001b[1;33m]\u001b[0m\u001b[1;33m[\u001b[0m\u001b[1;36m1\u001b[0m\u001b[1;33m]\u001b[0m\u001b[1;33m=\u001b[0m\u001b[1;36m10\u001b[0m\u001b[1;33m\u001b[0m\u001b[0m\n\u001b[0;32m      6\u001b[0m \u001b[0mprint\u001b[0m\u001b[1;33m(\u001b[0m\u001b[0mt\u001b[0m\u001b[1;33m)\u001b[0m\u001b[1;33m\u001b[0m\u001b[0m\n\u001b[1;32m----> 7\u001b[1;33m \u001b[0mt\u001b[0m\u001b[1;33m[\u001b[0m\u001b[1;36m1\u001b[0m\u001b[1;33m]\u001b[0m\u001b[1;33m[\u001b[0m\u001b[1;36m2\u001b[0m\u001b[1;33m]\u001b[0m\u001b[1;33m=\u001b[0m\u001b[1;36m5\u001b[0m\u001b[1;33m\u001b[0m\u001b[0m\n\u001b[0m\u001b[0;32m      8\u001b[0m \u001b[0mprint\u001b[0m\u001b[1;33m(\u001b[0m\u001b[0mt\u001b[0m\u001b[1;33m)\u001b[0m\u001b[1;33m\u001b[0m\u001b[0m\n",
      "\u001b[1;31mTypeError\u001b[0m: 'tuple' object does not support item assignment"
     ]
    }
   ],
   "source": [
    "t = (1,2,3,4)\n",
    "#it gives error as tupple immutable\n",
    "#t[1] = 10\n",
    "t = ([1,2,3],(2,3,4))\n",
    "t[0][1]=10\n",
    "print(t)\n",
    "t[1][2]=5\n",
    "print(t)"
   ]
  },
  {
   "cell_type": "markdown",
   "metadata": {},
   "source": [
    "#### Multi Threading :"
   ]
  },
  {
   "cell_type": "code",
   "execution_count": 1,
   "metadata": {},
   "outputs": [
    {
     "name": "stdout",
     "output_type": "stream",
     "text": [
      "0\n",
      "1\n",
      "2\n",
      "3\n",
      "4\n",
      "5\n",
      "6\n",
      "7\n",
      "8\n",
      "9\n"
     ]
    }
   ],
   "source": [
    "from threading import Thread\n",
    "from time import sleep\n",
    "\n",
    "class Even(Thread):\n",
    "    e = range(0,10,2)\n",
    "    def run(self):\n",
    "        for i in self.e:\n",
    "            print(i)\n",
    "            sleep(1)\n",
    "            \n",
    "class Odd(Thread):\n",
    "    o = range(1,10,2)\n",
    "    def run(self):\n",
    "        for i in self.o:\n",
    "            print(i) \n",
    "            sleep(1)\n",
    "\n",
    "t1 = Even()\n",
    "t2 = Odd()\n",
    "t1.start()\n",
    "sleep(.2)\n",
    "t2.start()"
   ]
  },
  {
   "cell_type": "markdown",
   "metadata": {},
   "source": [
    "#### Decorators : Adding extra functionality to an object"
   ]
  },
  {
   "cell_type": "markdown",
   "metadata": {},
   "source": [
    "##### Solution by me"
   ]
  },
  {
   "cell_type": "code",
   "execution_count": 27,
   "metadata": {},
   "outputs": [
    {
     "name": "stdout",
     "output_type": "stream",
     "text": [
      "None\n",
      "None\n",
      "None\n"
     ]
    }
   ],
   "source": [
    "import unittest \n",
    "\n",
    "class Circle:\n",
    "  def __init__(self, radius):\n",
    "    self.radius = radius\n",
    "\n",
    "  def resize(self, factor):\n",
    "    self.radius *= factor\n",
    "\n",
    "  def __str__(self):\n",
    "    return ('A circle of radius {}'.format(self.radius))\n",
    "\n",
    "class Square:\n",
    "  def __init__(self, side):\n",
    "    self.side = side\n",
    "\n",
    "  def __str__(self):\n",
    "    return  ('A square with side {}'.format(self.side))\n",
    "\n",
    "\n",
    "class ColoredShape():\n",
    "  def __init__(self, shape, color):\n",
    "    self.color = color\n",
    "    self.shape = shape\n",
    "  def resize(self, factor):\n",
    "    if isinstance(self.shape,Circle):\n",
    "        return self.shape.resize(factor)\n",
    "    return \"Square doesn't have resize method\"\n",
    "    \n",
    "  def __str__(self):\n",
    "    return ('{} has the color {}'.format(self.shape,self.color))\n",
    "\n",
    "\n",
    "class Evaluate(unittest.TestCase):\n",
    "  def test_circle(self):\n",
    "    circle = ColoredShape(Circle(5), 'red')\n",
    "    self.assertEqual(\n",
    "      'A circle of radius 5 has the color red',\n",
    "      str(circle)\n",
    "    )\n",
    "    circle.resize(2)\n",
    "    self.assertEqual(\n",
    "      'A circle of radius 10 has the color red',\n",
    "      str(circle)\n",
    "    )\n",
    "\n",
    "  def test_no_resize_in_square(self):\n",
    "    square = Square(4)\n",
    "    r = getattr(square, 'resize', None)\n",
    "    self.assertFalse(callable(r),\n",
    "                     'Please do not add resize() to Square')\n",
    "\n",
    "  def test_square(self):\n",
    "    square = ColoredShape(Square(2), 'blue')\n",
    "    self.assertEqual(\n",
    "      'A square with side 2 has the color blue',\n",
    "      str(square)\n",
    "    )\n",
    "    square.resize(2)\n",
    "    self.assertEqual(\n",
    "      'A square with side 2 has the color blue',\n",
    "      str(square)\n",
    "    )\n",
    "    \n",
    "if __name__ == '__main__':\n",
    "    ob = Evaluate()\n",
    "    print(ob.test_circle())\n",
    "    print(ob.test_no_resize_in_square())\n",
    "    print(ob.test_square())"
   ]
  },
  {
   "cell_type": "code",
   "execution_count": null,
   "metadata": {},
   "outputs": [],
   "source": [
    "def decorator_num(func):\n",
    "    def wrapper(a,b):\n",
    "        print('the checking numerator starts')\n",
    "        if a < 0:\n",
    "            raise Exception(\"Numerator can't be less than zero\")\n",
    "        print('The checking end')\n",
    "        return func(a,b)\n",
    "    return wrapper\n",
    "\n",
    "def decorator_den(func):\n",
    "    def wrapper(a,b):\n",
    "        print('the checking of denominator starts')\n",
    "        if b==0:\n",
    "            raise Exception(\"Denominator can't be zero\")\n",
    "        print('The checking end')\n",
    "        return func(a,b)\n",
    "    return wrapper\n",
    "\n",
    "@decorator_num\n",
    "@decorator_den\n",
    "def division(a,b):\n",
    "    print('the division of wo number is {}'.format(a/b))\n",
    "    \n",
    "division(1,2)"
   ]
  },
  {
   "cell_type": "code",
   "execution_count": 7,
   "metadata": {},
   "outputs": [
    {
     "name": "stdout",
     "output_type": "stream",
     "text": [
      "[0, 1, 2, 3, 4, 5, 6, 7, 8, 9, 10, 11, 12, 13, 14, 15, 16, 17, 18, 19, 20, 21, 22, 23, 24, 25, 26, 27, 28, 29, 30, 31, 32, 33, 34, 35, 36, 37, 38, 39, 40, 41, 42, 43, 44, 45, 46, 47, 48, 49]\n",
      "\n",
      "\n",
      "[50, 51, 52, 53, 54, 55, 56, 57, 58, 59, 60, 61, 62, 63, 64, 65, 66, 67, 68, 69, 70, 71, 72, 73, 74, 75, 76, 77, 78, 79, 80, 81, 82, 83, 84, 85, 86, 87, 88, 89, 90, 91, 92, 93, 94, 95, 96, 97, 98, 99]\n"
     ]
    }
   ],
   "source": [
    "li = list(range(100))\n",
    "\n",
    "def gen():\n",
    "    for i in range(0,len(li)):\n",
    "        yield li[i]\n",
    "\n",
    "ob = gen()\n",
    "l1,l2 = [],[]\n",
    "for i in range(50):\n",
    "    l1.append(next(ob))\n",
    "for i in range(50):\n",
    "    l2.append(next(ob))\n",
    "print(l1)\n",
    "print('\\n')\n",
    "print(l2)"
   ]
  },
  {
   "cell_type": "markdown",
   "metadata": {},
   "source": [
    "####  Iterator : the process of traversing over an object with the help of methods iter() and next() is known as iterator"
   ]
  },
  {
   "cell_type": "code",
   "execution_count": 29,
   "metadata": {},
   "outputs": [
    {
     "name": "stdout",
     "output_type": "stream",
     "text": [
      "T\n",
      "e\n",
      "s\n",
      "t\n",
      " \n",
      "c\n",
      "a\n",
      "s\n",
      "e\n",
      "s\n"
     ]
    }
   ],
   "source": [
    "string = \"Test cases of similar kind can be grouped together to create Test suites. For creation of test suite TestSuite class is called.  Look at the example below\"\n",
    "it = iter(string)\n",
    "for i in range(10):\n",
    "    print(next(it))"
   ]
  },
  {
   "cell_type": "markdown",
   "metadata": {},
   "source": [
    "#### Pickling : the way of saving the objects into a file is known as pickling load : loads the obj into a file. The file must be in a 'rb' mode. Takes file as an argument dump : dumps the obj into a file. The file must be in a 'wb' mode"
   ]
  },
  {
   "cell_type": "markdown",
   "metadata": {},
   "source": [
    "#### Namespace : A namespace is a system to have a unique name for each and every object in Python\n",
    "Types : 1)In-built {id(),print() etc} 2) Global and 3)Local Namespace"
   ]
  },
  {
   "cell_type": "code",
   "execution_count": 90,
   "metadata": {},
   "outputs": [
    {
     "name": "stdout",
     "output_type": "stream",
     "text": [
      "<class '_io.BufferedReader'>\n"
     ]
    },
    {
     "data": {
      "text/plain": [
       "{'name': 'vinod', 'age': 27}"
      ]
     },
     "execution_count": 90,
     "metadata": {},
     "output_type": "execute_result"
    }
   ],
   "source": [
    "import pickle\n",
    "class pickl:\n",
    "    dict1 = {'name':'vinod','age':27}\n",
    "    def __init__(self,name):\n",
    "        self.name = name\n",
    "    def sample(self):\n",
    "        print('This is sample method')\n",
    "def sample2(xyz):\n",
    "    print(xyz)\n",
    "    \n",
    "file = open('xyz.txt','wb')\n",
    "pickle.dump(pickl,file,fix_imports=True)\n",
    "file.close()\n",
    "file = open('xyz.txt','rb')\n",
    "print(type(file))\n",
    "c = pickle.load(file)\n",
    "file.close()\n",
    "c.dict1"
   ]
  },
  {
   "cell_type": "markdown",
   "metadata": {},
   "source": [
    "####  dumps : just store the obj into a byte format, takes object as input,  loads : loads the byte into to obj. Takes the byte as an argument"
   ]
  },
  {
   "cell_type": "code",
   "execution_count": 92,
   "metadata": {},
   "outputs": [
    {
     "name": "stdout",
     "output_type": "stream",
     "text": [
      "<class 'bytes'>\n"
     ]
    },
    {
     "data": {
      "text/plain": [
       "{'name': 'vinod', 'age': 27}"
      ]
     },
     "execution_count": 92,
     "metadata": {},
     "output_type": "execute_result"
    }
   ],
   "source": [
    "x = pickle.dumps(pickl)\n",
    "print(type(x))\n",
    "c = pickle.loads(x)\n",
    "c.dict1"
   ]
  },
  {
   "cell_type": "markdown",
   "metadata": {},
   "source": [
    "## Python is always object by referance"
   ]
  },
  {
   "cell_type": "code",
   "execution_count": 108,
   "metadata": {},
   "outputs": [
    {
     "name": "stdout",
     "output_type": "stream",
     "text": [
      "140712982805344 140712982808544\n",
      "140712982805344 140712982808544\n",
      "Before swap a and b value are 100,200\n",
      "After swap a and b value are 200,100\n",
      "100 200\n"
     ]
    }
   ],
   "source": [
    "def swap(a,b):\n",
    "    print(id(a),id(b))\n",
    "    print('Before swap a and b value are {},{}'.format(a,b))\n",
    "    temp = a\n",
    "    #print('A',a,'Temp',temp)\n",
    "    a = b\n",
    "    #print('A',a,'b',b)\n",
    "    b = temp\n",
    "    #print('b',b,'Temp',temp)\n",
    "    print('After swap a and b value are {},{}'.format(a,b))\n",
    "    return a,b\n",
    "x=100;y=200\n",
    "print(id(x),id(y))\n",
    "swap(x,y)\n",
    "print(x,y)"
   ]
  },
  {
   "cell_type": "code",
   "execution_count": 114,
   "metadata": {},
   "outputs": [
    {
     "name": "stdout",
     "output_type": "stream",
     "text": [
      "100 200\n",
      "200 100\n"
     ]
    }
   ],
   "source": [
    "def swap(a,b):\n",
    "    #print(id(a),id(b))\n",
    "    global x,y\n",
    "    #print(id(x),id(y))\n",
    "    y = a\n",
    "    x = b\n",
    "    return x,y\n",
    "x=100;y=200\n",
    "#print(id(x),id(y))\n",
    "print(x,y)\n",
    "swap(x,y)\n",
    "print(x,y)"
   ]
  },
  {
   "cell_type": "markdown",
   "metadata": {},
   "source": [
    "#### Monkey patching: It's simply the dynamic replacement of attributes at runtime\n",
    "For instance, consider a class that has a method get_data. This method does an external lookup (on a database or web API, for example), and various other methods in the class call it. However, in a unit test, you don't want to depend on the external data source - so you dynamically replace the get_data method with a stub that returns some fixed data."
   ]
  },
  {
   "cell_type": "code",
   "execution_count": 2,
   "metadata": {},
   "outputs": [
    {
     "name": "stdout",
     "output_type": "stream",
     "text": [
      "I vinod am a extra ordinary monkey\n"
     ]
    }
   ],
   "source": [
    "class Monkeypatch:\n",
    "    def __init__(self,name):\n",
    "        self.name = name\n",
    "    def monkey(self):\n",
    "        print('The monkey name is {}'.format(self.name))\n",
    "        print('This method connects to database')\n",
    "        print('This method calls API')\n",
    "        print('This method is very big')\n",
    "\n",
    "def monkey(self):\n",
    "    print('I {} am a extra ordinary monkey'.format(self.name))\n",
    "    \n",
    "Monkeypatch.monkey = monkey\n",
    "ob = Monkeypatch('vinod')\n",
    "ob.monkey()"
   ]
  },
  {
   "cell_type": "markdown",
   "metadata": {},
   "source": [
    "#### Virtual environment : Virtual environmets make it easy to cleanly separate different projects and avoid problems with different dependencies and version requiremetns across components\n",
    "Steps to create virtual environment:\n",
    "1)pip install virtualenv\n",
    "2)virtualenv <name>\n",
    "3)<name>\\bin\\activate\n",
    "4)<name>\\bin\\deactivate\n",
    "We can have different python version in virtual environment but the version need to be installed in the system-->virtualenv venv --python=/usr/local/bin/python"
   ]
  },
  {
   "cell_type": "markdown",
   "metadata": {},
   "source": [
    "#### Regex \n",
    "\\d-->Matches any decimal digit; this is equivalent to the class [0-9].\n",
    "\\D-->Matches any non-digit character; this is equivalent to the class [^0-9].\n",
    "\\s-->Matches any whitespace character; this is equivalent to the class [ \\t\\n\\r\\f\\v].\n",
    "\\S-->Matches any non-whitespace character; this is equivalent to the class [^ \\t\\n\\r\\f\\v].\n",
    "\\w-->Matches any alphanumeric character; this is equivalent to the class [a-zA-Z0-9_].\n",
    "\\W-->Matches any non-alphanumeric character; this is equivalent to the class [^a-zA-Z0-9_].\n",
    "\n",
    "match() and search() return None if no match can be found. If they’re successful, a match object instance is returned, containing information about the match: where it starts and ends, the substring it matched, and more.\n",
    "\n",
    "group()-->Return the string matched by the RE, span()-->Return a tuple containing the (start, end) positions of the match"
   ]
  },
  {
   "cell_type": "code",
   "execution_count": 45,
   "metadata": {},
   "outputs": [
    {
     "name": "stdout",
     "output_type": "stream",
     "text": [
      "23\n"
     ]
    },
    {
     "data": {
      "text/plain": [
       "(<re.Match object; span=(0, 23), match='vinod_charan6@gmail.com'>,\n",
       " <re.Match object; span=(0, 23), match='vinod_charan6@gmail.com'>,\n",
       " 'vinod_charan6@gmail.com',\n",
       " (0, 23))"
      ]
     },
     "execution_count": 45,
     "metadata": {},
     "output_type": "execute_result"
    }
   ],
   "source": [
    "import re\n",
    "s = \"vinod_charan6@gmail.com\"\n",
    "print(len(s))\n",
    "y = re.search('[a-zA-Z.-_0-9]+@[a-z]+[.][a-z]+',s)\n",
    "z = re.match('[\\w\\W]+@[a-z]+[.][a-z]+',s)\n",
    "z,y,z.group(),z.span()"
   ]
  },
  {
   "cell_type": "markdown",
   "metadata": {},
   "source": [
    "findall()-->Find all substrings where the RE matches, and returns them as a list.\n",
    "finditer()-->Find all substrings where the RE matches, and returns them as an iterator."
   ]
  },
  {
   "cell_type": "code",
   "execution_count": 47,
   "metadata": {},
   "outputs": [
    {
     "name": "stdout",
     "output_type": "stream",
     "text": [
      "<re.Match object; span=(0, 23), match='vinod_charan6@gmail.com'>\n"
     ]
    },
    {
     "data": {
      "text/plain": [
       "(['vinod_charan6@gmail.com'], <callable_iterator at 0x248bcca0240>)"
      ]
     },
     "execution_count": 47,
     "metadata": {},
     "output_type": "execute_result"
    }
   ],
   "source": [
    "z = re.findall('[\\w\\W]+@[a-z]+[.][a-z]+',s)\n",
    "x = re.finditer('[\\w\\W]+@[a-z]+[.][a-z]+',s)\n",
    "print(next(x))\n",
    "z,x"
   ]
  },
  {
   "cell_type": "code",
   "execution_count": 67,
   "metadata": {},
   "outputs": [
    {
     "data": {
      "text/plain": [
       "(['This is my way', 'this is my world'],\n",
       " 'This is our way-this is our world',\n",
       " ('This is our way-this is our world', 2))"
      ]
     },
     "execution_count": 67,
     "metadata": {},
     "output_type": "execute_result"
    }
   ],
   "source": [
    "s1 = \"This is my way-this is my world\"\n",
    "re.split('-',s1),re.sub('my','our',s1),re.subn('my','our',s1)"
   ]
  },
  {
   "cell_type": "markdown",
   "metadata": {},
   "source": [
    "#### Multi Threading : https://www.bogotobogo.com/python/Multithread/python_multithreading_creating_threads.php"
   ]
  },
  {
   "cell_type": "code",
   "execution_count": 5,
   "metadata": {},
   "outputs": [
    {
     "name": "stdout",
     "output_type": "stream",
     "text": [
      "0\n",
      "1\n",
      "2\n",
      "3\n",
      "4\n",
      "5\n",
      "6\n",
      "7\n",
      "8\n",
      "9\n",
      "10\n",
      "11\n",
      "12\n",
      "13\n",
      "14\n",
      "15\n",
      "16\n",
      "17\n",
      "18\n",
      "19\n"
     ]
    }
   ],
   "source": [
    "from time import sleep\n",
    "from threading import Thread\n",
    "class one(Thread):\n",
    "    def run(self):\n",
    "        for i in range(0,20,2):\n",
    "            print(i)\n",
    "            sleep(1)\n",
    "            \n",
    "class two(Thread):\n",
    "    def run(self):\n",
    "        for i in range(1,20,2):\n",
    "            print(i)\n",
    "            sleep(1)\n",
    "\n",
    "t1 = one()\n",
    "t2 = two()\n",
    "t1.start()\n",
    "t2.start()"
   ]
  },
  {
   "cell_type": "code",
   "execution_count": 3,
   "metadata": {},
   "outputs": [
    {
     "name": "stderr",
     "output_type": "stream",
     "text": [
      "[DEBUG] (Thread-8 ) Starting\n",
      "[INFO] (f2       ) Starting\n",
      "[WARNING] (f3       ) Starting\n",
      "[DEBUG] (Thread-8 ) Exiting\n",
      "[INFO] (f2       ) Exiting\n",
      "[WARNING] (f3       ) Exiting\n"
     ]
    }
   ],
   "source": [
    "import threading\n",
    "import time\n",
    "import logging\n",
    "\n",
    "#logging.basicConfig(level=logging.DEBUG,\n",
    " #                     format='[%(levelname)s] (%(threadName)-9s) %(message)s',)\n",
    "\n",
    "def f1():\n",
    "    logging.debug('Starting')\n",
    "    time.sleep(1)\n",
    "    logging.debug('Exiting')\n",
    "\n",
    "def f2():\n",
    "    logging.info('Starting')\n",
    "    time.sleep(2)\n",
    "    logging.info('Exiting')\n",
    "\n",
    "def f3():\n",
    "    logging.warning('Starting')\n",
    "    time.sleep(3)\n",
    "    logging.warning('Exiting')\n",
    "\n",
    "t1 = threading.Thread(target=f1,args=) # use default name\n",
    "t2 = threading.Thread(name='f2', target=f2)\n",
    "t3 = threading.Thread(name='f3', target=f3)\n",
    "\n",
    "t1.start()\n",
    "t2.start()\n",
    "t3.start()"
   ]
  },
  {
   "cell_type": "markdown",
   "metadata": {},
   "source": [
    "#### Lock()\n",
    "acquire(blocking = True,timeout = ) :This method is used to acquire the lock. When it is invoked without arguments, it blocks until the lock is unlocked.\n",
    "release() :It is used to release an acquired lock. If the lock is locked, this method will reset it to unlocked, and return. Also this method can be called from any thread.\n",
    "   "
   ]
  },
  {
   "cell_type": "code",
   "execution_count": 2,
   "metadata": {
    "scrolled": true
   },
   "outputs": [
    {
     "name": "stdout",
     "output_type": "stream",
     "text": [
      "<Thread(t1, started 21376)>\n",
      "0\n",
      "<Thread(t1, started 21376)>\n",
      "1\n",
      "<Thread(t1, started 21376)>\n",
      "2\n",
      "<Thread(t2, started 17724)>\n",
      "0\n",
      "<Thread(t2, started 17724)>\n",
      "1\n",
      "<Thread(t2, started 17724)>\n",
      "2\n"
     ]
    }
   ],
   "source": [
    "import threading\n",
    "import time\n",
    "\n",
    "lock = threading.Lock()\n",
    "\n",
    "def Evenodd():\n",
    "    \n",
    "    lock.acquire(blocking = True)\n",
    "\n",
    "    for i in range(3):   \n",
    "        print(threading.current_thread())\n",
    "        print(i)\n",
    "        time.sleep(5)\n",
    "\n",
    "    lock.release()\n",
    "        \n",
    "        \n",
    "t1 = threading.Thread(name = 't1',target=Evenodd)\n",
    "t1.start()\n",
    "\n",
    "t2 = threading.Thread(name = 't2',target=Evenodd)\n",
    "t2.start()\n",
    "\n",
    "t1.join()\n",
    "t2.join()"
   ]
  },
  {
   "cell_type": "markdown",
   "metadata": {},
   "source": [
    "#### Event Handler\n",
    "class which is used for thread synchronization in python.\n",
    "An internal flag is used by the event object known as the event flag which can be set as true using the set() method and it can be reset to false using the clear() method.\n",
    "wait() : method blocks a thread until the event flag for which it is waiting is set true by any other thread..\n",
    "set() : sets event flag to true\n",
    "clear() : sets event flat to false"
   ]
  },
  {
   "cell_type": "code",
   "execution_count": 13,
   "metadata": {},
   "outputs": [
    {
     "name": "stdout",
     "output_type": "stream",
     "text": [
      "0\n",
      "1\n",
      "a\n",
      "2\n",
      "3\n",
      "b\n",
      "4\n",
      "5\n",
      "c\n",
      "6\n",
      "7\n",
      "d\n",
      "8\n",
      "9\n",
      "e\n"
     ]
    }
   ],
   "source": [
    "import threading\n",
    "def even(event,l,event2,event3):\n",
    "  for i in range(len(l)):\n",
    "    print(l[i])\n",
    "    event.set()    \n",
    "    event2.clear()\n",
    "    event3.clear()\n",
    "    event2.wait()\n",
    "    event3.wait()\n",
    "    \n",
    "def odd(event,l,event2,event3):\n",
    "  for i in range(len(l)):\n",
    "    print(l[i])\n",
    "    event.set()\n",
    "    event2.clear()\n",
    "    event3.clear()    \n",
    "    event2.wait()\n",
    "    event3.wait()\n",
    "    \n",
    "def alpha(event,l,event2,event3):\n",
    "  for i in range(len(l)):\n",
    "    print(l[i])\n",
    "    event.set()\n",
    "    event2.clear()\n",
    "    event3.clear()    \n",
    "    event2.wait()\n",
    "    event3.wait()\n",
    "\n",
    "\n",
    "ev = [0,2,4,6,8]\n",
    "oo = [1,3,5,7,9]\n",
    "a = ['a','b','c','d','e']\n",
    "e1 = threading.Event()\n",
    "e2 = threading.Event()\n",
    "e3 = threading.Event()\n",
    "t1 = threading.Thread(name = 'Even',target=even,args=(e1,ev,e2,e3))\n",
    "t2 = threading.Thread(name = 'odd',target=odd,args=(e2,oo,e3,e1))\n",
    "t3 = threading.Thread(name = 'alpha',target=alpha,args=(e3,a,e1,e2))\n",
    "\n",
    "t1.start()\n",
    "t2.start()\n",
    "t3.start()"
   ]
  },
  {
   "cell_type": "markdown",
   "metadata": {},
   "source": [
    "#### Timer():\n",
    "Timer objects are created using Timer class which is a subclass of the Thread class. Using this class we can set a delay on any action that should be run only after a certain amount of time has passed(timer) and can easily be cancelled during that delay\n",
    "start() method\n",
    "This method is used to start the execution of the timer object. When we call this method, then the timer object starts its timer.\n",
    "cancel() method\n",
    "This method is used to stop the timer and cancel the execution of the timer object's action. This will only work if the timer has not performed its action yet.\n"
   ]
  },
  {
   "cell_type": "code",
   "execution_count": 14,
   "metadata": {},
   "outputs": [
    {
     "name": "stdout",
     "output_type": "stream",
     "text": [
      "The threading started the timer for 5 sec\n",
      "The threading calcelled\n"
     ]
    }
   ],
   "source": [
    "import threading\n",
    "\n",
    "def sample():\n",
    "  print('Hi u are in thread target method')\n",
    "  for i in range(0,4):\n",
    "    print(i)\n",
    "    \n",
    "t1 = threading.Timer(5,sample)\n",
    "t1.start()\n",
    "print('The threading started the timer for 5 sec')\n",
    "t1.cancel()\n",
    "print('The threading calcelled')"
   ]
  },
  {
   "cell_type": "code",
   "execution_count": null,
   "metadata": {},
   "outputs": [],
   "source": []
  }
 ],
 "metadata": {
  "kernelspec": {
   "display_name": "Python 3",
   "language": "python",
   "name": "python3"
  },
  "language_info": {
   "codemirror_mode": {
    "name": "ipython",
    "version": 3
   },
   "file_extension": ".py",
   "mimetype": "text/x-python",
   "name": "python",
   "nbconvert_exporter": "python",
   "pygments_lexer": "ipython3",
   "version": "3.7.0"
  }
 },
 "nbformat": 4,
 "nbformat_minor": 2
}
