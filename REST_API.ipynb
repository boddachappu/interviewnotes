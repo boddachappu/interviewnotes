{
 "cells": [
  {
   "cell_type": "code",
   "execution_count": 1,
   "metadata": {},
   "outputs": [
    {
     "name": "stdout",
     "output_type": "stream",
     "text": [
      " * Serving Flask app \"__name__\" (lazy loading)\n",
      " * Environment: production\n",
      "   WARNING: Do not use the development server in a production environment.\n",
      "   Use a production WSGI server instead.\n",
      " * Debug mode: on\n"
     ]
    },
    {
     "name": "stderr",
     "output_type": "stream",
     "text": [
      " * Restarting with stat\n"
     ]
    },
    {
     "ename": "SystemExit",
     "evalue": "1",
     "output_type": "error",
     "traceback": [
      "An exception has occurred, use %tb to see the full traceback.\n",
      "\u001b[1;31mSystemExit\u001b[0m\u001b[1;31m:\u001b[0m 1\n"
     ]
    },
    {
     "name": "stderr",
     "output_type": "stream",
     "text": [
      "C:\\Users\\vakaveet\\AppData\\Local\\Continuum\\anaconda3\\lib\\site-packages\\IPython\\core\\interactiveshell.py:3304: UserWarning: To exit: use 'exit', 'quit', or Ctrl-D.\n",
      "  warn(\"To exit: use 'exit', 'quit', or Ctrl-D.\", stacklevel=1)\n"
     ]
    }
   ],
   "source": [
    "from flask import Flask, jsonify, request\n",
    "\n",
    "app = Flask('__name__')\n",
    "\n",
    "Students = [\n",
    "    {\n",
    "    'name':'vinod',\n",
    "    'Marks' :{\n",
    "        'SSC' : 85,\n",
    "        'Inter' : 95,\n",
    "        'B-Tech' : 81\n",
    "        \n",
    "    }\n",
    "    }\n",
    "]\n",
    "\n",
    "@app.route('/create',methods = ['POST'])\n",
    "def createStudent():\n",
    "    request_data = request.get_json()\n",
    "    new_data = {\n",
    "        'name' : request_data['name'],\n",
    "        'Marks' : []\n",
    "    }\n",
    "    Students.append(new_data)\n",
    "    return jsonify({'Student':new_data})\n",
    "    \n",
    "    \n",
    "@app.route('/create/<string:name>/<string:marks>',methods =['POST'])\n",
    "def createStudentMarks(name,marks):\n",
    "    request_data = request.get_json()\n",
    "    if Students:\n",
    "        for student in Students:\n",
    "            if student['name'] == name:\n",
    "                new_data = {\n",
    "                    'SSC' : request_data['SSC'],\n",
    "                    'MPC' : request_data['MPC'],\n",
    "                    'Btech' : request_data['Btech']\n",
    "                }\n",
    "                student['Marks'].append(new_data)\n",
    "        return jsonify({'students':Students})\n",
    "        \n",
    "    return jsonify({'Student':'No data found'})\n",
    "    \n",
    "@app.route('/students')\n",
    "def getStudents():\n",
    "    return jsonify({'students':Students})\n",
    "\n",
    "@app.route('/students/<string:name>')\n",
    "def getStudentByName(name):\n",
    "    for student in Students:\n",
    "        if student['name'] == name:\n",
    "            return jsonify(student)\n",
    "    return jsonify({'message':'Name not found'})\n",
    "\n",
    "@app.route('/students/<string:name>/marks')\n",
    "def getStudentMarks(name):\n",
    "    for student in Students:\n",
    "        if student['name'] == name:\n",
    "            return jsonify(student['Marks'])\n",
    "    return jsonify({'message':'Name not found'})\n",
    "\n",
    "app.run(port=2323,debug=True)\n"
   ]
  },
  {
   "cell_type": "code",
   "execution_count": null,
   "metadata": {},
   "outputs": [],
   "source": []
  }
 ],
 "metadata": {
  "kernelspec": {
   "display_name": "Python 3",
   "language": "python",
   "name": "python3"
  },
  "language_info": {
   "codemirror_mode": {
    "name": "ipython",
    "version": 3
   },
   "file_extension": ".py",
   "mimetype": "text/x-python",
   "name": "python",
   "nbconvert_exporter": "python",
   "pygments_lexer": "ipython3",
   "version": "3.7.3"
  }
 },
 "nbformat": 4,
 "nbformat_minor": 2
}
