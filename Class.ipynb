{
 "cells": [
  {
   "cell_type": "markdown",
   "metadata": {},
   "source": [
    "# Calling constructor from child constructor with Inheritance"
   ]
  },
  {
   "cell_type": "code",
   "execution_count": 181,
   "metadata": {},
   "outputs": [
    {
     "name": "stdout",
     "output_type": "stream",
     "text": [
      "u r in C constr\n",
      " u r in parent class\n"
     ]
    }
   ],
   "source": [
    "\n",
    "class A():\n",
    "    def __init__(self,age,name):\n",
    "        self.name = name\n",
    "        print(' u r in parent class')\n",
    "class B(A):\n",
    "    def dummy(self,age,name):\n",
    "        self.age = age\n",
    "        self.name = name\n",
    "        print('u r in class B')\n",
    "        #A.__init__(self,name)\n",
    "\n",
    "#when we call parent class from child using super it will check the first occurance of init and then stops going to other parent\n",
    "class C(B,A):\n",
    "    def __init__(self,name):\n",
    "        print('u r in C constr')\n",
    "        self.name = name\n",
    "        self.salary = 20000\n",
    "        age = 20\n",
    "        super().__init__(age,name)\n",
    "\n",
    "ob = C('IT')  "
   ]
  },
  {
   "cell_type": "code",
   "execution_count": 4,
   "metadata": {},
   "outputs": [
    {
     "name": "stdout",
     "output_type": "stream",
     "text": [
      "no\n",
      "root parent\n",
      "in class A\n",
      "vinod\n",
      "raju\n"
     ]
    }
   ],
   "source": [
    "class X:\n",
    "    x=10\n",
    "    print('no')\n",
    "class Z:\n",
    "    print('root parent')\n",
    "class A(Z):\n",
    "    Av = 'raju'\n",
    "    def __init__(self,a):\n",
    "        print('in class A')\n",
    "        print(a)\n",
    "\n",
    "class B(A):\n",
    "    def ex():\n",
    "        super.__init__(self,a)\n",
    "ob = B('vinod')\n",
    "print(A.Av)"
   ]
  },
  {
   "cell_type": "raw",
   "metadata": {},
   "source": [
    "from logging import getLogger\n",
    "logger = getLogger()\n",
    "def ex(a,b):\n",
    "    z = a==b\n",
    "    print('z',z)\n",
    "    if a==b:\n",
    "        print(a,b)\n",
    "    else:\n",
    "        print(a)\n",
    "    if a:\n",
    "        print(a,'a')\n",
    "    else:\n",
    "        print(b)\n",
    "\n",
    "ex(2,2)"
   ]
  },
  {
   "cell_type": "markdown",
   "metadata": {},
   "source": [
    "# Yeild keyword with multiple occurances"
   ]
  },
  {
   "cell_type": "code",
   "execution_count": 6,
   "metadata": {},
   "outputs": [
    {
     "name": "stdout",
     "output_type": "stream",
     "text": [
      "(1, 'first')\n"
     ]
    }
   ],
   "source": [
    "def prin():\n",
    "    l = 1\n",
    "    yield l,'first'\n",
    "    l2 = 2    \n",
    "    yield l2,'second'\n",
    "z = prin()\n",
    "print(next(z))\n",
    "#print(next(z))"
   ]
  },
  {
   "cell_type": "markdown",
   "metadata": {},
   "source": [
    "# Generator example to put 0-100 values in to two lists "
   ]
  },
  {
   "cell_type": "code",
   "execution_count": 23,
   "metadata": {},
   "outputs": [
    {
     "name": "stdout",
     "output_type": "stream",
     "text": [
      "[0, 1, 2, 3, 4, 5, 6, 7, 8, 9, 10, 11, 12, 13, 14, 15, 16, 17, 18, 19, 20, 21, 22, 23, 24, 25, 26, 27, 28, 29, 30, 31, 32, 33, 34, 35, 36, 37, 38, 39, 40, 41, 42, 43, 44, 45, 46, 47, 48, 49]\n",
      "[50, 51, 52, 53, 54, 55, 56, 57, 58, 59, 60, 61, 62, 63, 64, 65, 66, 67, 68, 69, 70, 71, 72, 73, 74, 75, 76, 77, 78, 79, 80, 81, 82, 83, 84, 85, 86, 87, 88, 89, 90, 91, 92, 93, 94, 95, 96, 97, 98, 99]\n"
     ]
    }
   ],
   "source": [
    "l = []\n",
    "l2 = []\n",
    "def gen():\n",
    "    for i in range(0,100):\n",
    "        yield i\n",
    "o=gen()\n",
    "for i in range(0,50):\n",
    "    l.append(next(o))\n",
    "print(l)\n",
    "for i in range(0,50):\n",
    "    l2.append(next(o))\n",
    "print(l2)"
   ]
  },
  {
   "cell_type": "code",
   "execution_count": 112,
   "metadata": {},
   "outputs": [
    {
     "name": "stdout",
     "output_type": "stream",
     "text": [
      "1\n",
      "2\n",
      "3\n",
      "4\n",
      "5\n",
      "6\n",
      "7\n",
      "8\n",
      "9\n",
      "10\n"
     ]
    }
   ],
   "source": [
    "def AP(a1, d, size):\n",
    "    count = 1\n",
    "    while count <= size:\n",
    "        yield a1\n",
    "        a1 += d\n",
    "        count += 1\n",
    "\n",
    "for ele in AP(1, 1, 10):\n",
    "    print(ele)"
   ]
  },
  {
   "cell_type": "code",
   "execution_count": 60,
   "metadata": {},
   "outputs": [
    {
     "name": "stdout",
     "output_type": "stream",
     "text": [
      "1\n",
      "3\n",
      "5\n",
      "7\n",
      "9\n",
      "11\n",
      "13\n",
      "15\n",
      "17\n",
      "19\n"
     ]
    }
   ],
   "source": [
    "class AP:\n",
    "    def __init__(self, a1, d, size):\n",
    "        self.ele = a1\n",
    "        self.diff = d\n",
    "        self.len = size\n",
    "        self.count = 0\n",
    "\n",
    "    def __iter__(self):\n",
    "        return self\n",
    "\n",
    "    def __next__(self): \n",
    "        if self.count >= self.len:\n",
    "            raise StopIteration\n",
    "        elif self.count == 0:\n",
    "            self.count += 1\n",
    "            return self.ele\n",
    "        else:\n",
    "            self.count += 1\n",
    "            self.ele += self.diff\n",
    "            return self.ele\n",
    "\n",
    "for ele in AP(1, 2, 10):\n",
    "    print(ele)"
   ]
  },
  {
   "cell_type": "markdown",
   "metadata": {},
   "source": [
    "# To read a huge file with the help of generators"
   ]
  },
  {
   "cell_type": "code",
   "execution_count": 196,
   "metadata": {},
   "outputs": [
    {
     "name": "stdout",
     "output_type": "stream",
     "text": [
      "['\\n', '🏠PythonSeleniumQAAgileAngularSQLJavaLinuxCC#WebPHPAndroid\\n']\n",
      "['Python Generator Tutorial for Beginners\\n']\n",
      "['\\n', ' \\n']\n",
      "['Python Tutorials | By Meenakshi Agarwal\\n']\n",
      "['This tutorial should help you learn, create and use Python Generator functions and expressions. It also covers some essential facts such as why and when to use them in programs, and what makes a generator different from an iterator and a regular function.\\n']\n"
     ]
    }
   ],
   "source": [
    "def read_file():\n",
    "    with open('filename.txt','r',encoding='utf-8') as fp:\n",
    "        while True:\n",
    "            yield fp.readlines(1)\n",
    "ob = read_file()\n",
    "for i in range(5):\n",
    "    print(next(ob))"
   ]
  },
  {
   "cell_type": "code",
   "execution_count": 76,
   "metadata": {},
   "outputs": [
    {
     "name": "stdout",
     "output_type": "stream",
     "text": [
      "© 2019 TechBeamers.com\n",
      "☛ Contact Us\n",
      "\n",
      "☛ Disclaimer\n",
      "\n",
      "☛ Privacy Policy\n",
      "\n",
      "☛ About Us\n",
      "\n",
      "Quick Info\n",
      "\n",
      "PHP Interview Questions-2\n",
      "\n",
      "PHP Interview Questions-1\n",
      "\n",
      "HTML Interview Questions\n",
      "\n",
      "NodeJS Interview Questions\n",
      "\n"
     ]
    }
   ],
   "source": [
    "#to print last 50 lines in a file using generators\n",
    "data=[]\n",
    "with open('filename.txt','r',encoding='utf-8') as fp:\n",
    "    data += fp.readlines()\n",
    "\n",
    "leng = len(data)\n",
    "\n",
    "def fileread(leng,step,lines):\n",
    "    c = 0\n",
    "    while c != lines:\n",
    "        yield data[leng-1]\n",
    "        leng -= step\n",
    "        c +=1\n",
    "    \n",
    "for line in fileread(leng,1,10):\n",
    "    print(line)"
   ]
  },
  {
   "cell_type": "markdown",
   "metadata": {},
   "source": [
    "# Decorator example for division check"
   ]
  },
  {
   "cell_type": "code",
   "execution_count": 1,
   "metadata": {
    "scrolled": true
   },
   "outputs": [
    {
     "name": "stdout",
     "output_type": "stream",
     "text": [
      "4 0\n"
     ]
    },
    {
     "ename": "Exception",
     "evalue": "The denominator can't be zero",
     "output_type": "error",
     "traceback": [
      "\u001b[1;31m---------------------------------------------------------------------------\u001b[0m",
      "\u001b[1;31mException\u001b[0m                                 Traceback (most recent call last)",
      "\u001b[1;32m<ipython-input-1-757fcddf99cf>\u001b[0m in \u001b[0;36m<module>\u001b[1;34m\u001b[0m\n\u001b[0;32m     12\u001b[0m     \u001b[0mprint\u001b[0m\u001b[1;33m(\u001b[0m\u001b[1;34m'div'\u001b[0m\u001b[1;33m,\u001b[0m\u001b[0ma\u001b[0m\u001b[1;33m/\u001b[0m\u001b[0mb\u001b[0m\u001b[1;33m)\u001b[0m\u001b[1;33m\u001b[0m\u001b[1;33m\u001b[0m\u001b[0m\n\u001b[0;32m     13\u001b[0m \u001b[1;33m\u001b[0m\u001b[0m\n\u001b[1;32m---> 14\u001b[1;33m \u001b[0mdivide\u001b[0m\u001b[1;33m(\u001b[0m\u001b[1;36m4\u001b[0m\u001b[1;33m,\u001b[0m\u001b[1;36m0\u001b[0m\u001b[1;33m)\u001b[0m\u001b[1;33m\u001b[0m\u001b[1;33m\u001b[0m\u001b[0m\n\u001b[0m",
      "\u001b[1;32m<ipython-input-1-757fcddf99cf>\u001b[0m in \u001b[0;36minner\u001b[1;34m(a, b)\u001b[0m\n\u001b[0;32m      3\u001b[0m         \u001b[0mprint\u001b[0m\u001b[1;33m(\u001b[0m\u001b[0ma\u001b[0m\u001b[1;33m,\u001b[0m\u001b[0mb\u001b[0m\u001b[1;33m)\u001b[0m\u001b[1;33m\u001b[0m\u001b[1;33m\u001b[0m\u001b[0m\n\u001b[0;32m      4\u001b[0m         \u001b[1;32mif\u001b[0m \u001b[0mb\u001b[0m\u001b[1;33m==\u001b[0m\u001b[1;36m0\u001b[0m\u001b[1;33m:\u001b[0m\u001b[1;33m\u001b[0m\u001b[1;33m\u001b[0m\u001b[0m\n\u001b[1;32m----> 5\u001b[1;33m             \u001b[1;32mraise\u001b[0m \u001b[0mException\u001b[0m\u001b[1;33m(\u001b[0m\u001b[1;34m\"The denominator can't be zero\"\u001b[0m\u001b[1;33m)\u001b[0m\u001b[1;33m\u001b[0m\u001b[1;33m\u001b[0m\u001b[0m\n\u001b[0m\u001b[0;32m      6\u001b[0m         \u001b[0mres\u001b[0m \u001b[1;33m=\u001b[0m \u001b[0mfn\u001b[0m\u001b[1;33m(\u001b[0m\u001b[0ma\u001b[0m\u001b[1;33m,\u001b[0m\u001b[0mb\u001b[0m\u001b[1;33m)\u001b[0m\u001b[1;33m\u001b[0m\u001b[1;33m\u001b[0m\u001b[0m\n\u001b[0;32m      7\u001b[0m         \u001b[1;32mreturn\u001b[0m \u001b[0mres\u001b[0m\u001b[1;33m\u001b[0m\u001b[1;33m\u001b[0m\u001b[0m\n",
      "\u001b[1;31mException\u001b[0m: The denominator can't be zero"
     ]
    }
   ],
   "source": [
    "def decorator(fn):\n",
    "    def inner(a,b):\n",
    "        print(a,b)\n",
    "        if b==0:\n",
    "            raise Exception(\"The denominator can't be zero\")\n",
    "        res = fn(a,b)\n",
    "        return res\n",
    "    return inner\n",
    "\n",
    "@decorator\n",
    "def divide(a,b):\n",
    "    print('div',a/b)\n",
    "\n",
    "divide(4,0)"
   ]
  },
  {
   "cell_type": "code",
   "execution_count": 96,
   "metadata": {},
   "outputs": [
    {
     "name": "stdout",
     "output_type": "stream",
     "text": [
      "inside decorator running decorator method first\n",
      "test case\n",
      "0\n",
      "1\n",
      "2\n",
      "3\n",
      "4\n",
      "5\n",
      "6\n",
      "7\n",
      "8\n",
      "9\n"
     ]
    }
   ],
   "source": [
    "def deco(x,b):\n",
    "    def inner(fun):\n",
    "        def wrap(*a):\n",
    "            print('inside decorator running decorator method first')\n",
    "            print(x,b)\n",
    "            fun(*a)\n",
    "        return wrap\n",
    "    return inner\n",
    "\n",
    "@deco('test','case')\n",
    "def leng(a):\n",
    "    for i in range(a):\n",
    "        print(i)\n",
    "leng(10)"
   ]
  },
  {
   "cell_type": "code",
   "execution_count": 105,
   "metadata": {},
   "outputs": [
    {
     "name": "stdout",
     "output_type": "stream",
     "text": [
      "1.5\n"
     ]
    }
   ],
   "source": [
    "def validate(func):\n",
    "    def inner(x,y):\n",
    "        if x<0 and y<0:\n",
    "            raise Exception('please eneter the valid inputs')\n",
    "        res = func(x,y)\n",
    "        return res\n",
    "    return inner\n",
    "@validate\n",
    "def average(x,y):\n",
    "    print((x+y)/2)\n",
    "\n",
    "average(1,2)"
   ]
  },
  {
   "cell_type": "code",
   "execution_count": 127,
   "metadata": {},
   "outputs": [
    {
     "name": "stdout",
     "output_type": "stream",
     "text": [
      "Bananatruck Truck driving slowly because heavily loaded.\n",
      "Orangetruck Truck driving slowly because heavily loaded.\n",
      "Z3 Sportscar driving!\n"
     ]
    }
   ],
   "source": [
    "class Car:\n",
    "    def __init__(self, name):\n",
    "        self.name = name\n",
    "    \n",
    "    def drive(self):\n",
    "        raise NotImplementedError(\"Subclass must implement abstract method\")\n",
    "\n",
    "    def stop(self):\n",
    "        raise NotImplementedError(\"Subclass must implement abstract method\")\n",
    "    \n",
    "class Sportscar(Car):\n",
    "    def drive(self):\n",
    "        return 'Sportscar driving!'\n",
    "\n",
    "    def stop(self):\n",
    "        return 'Sportscar braking!'\n",
    "    \n",
    "class Truck(Car):\n",
    "    def drive(self):\n",
    "        return 'Truck driving slowly because heavily loaded.'\n",
    "\n",
    "    def stop(self):\n",
    "        return 'Truck braking!'\n",
    "\n",
    "cars = [Truck('Bananatruck'),\n",
    "Truck('Orangetruck'),\n",
    "Sportscar('Z3')]\n",
    "\n",
    "for car in cars:\n",
    "    print(car.name,car.drive())"
   ]
  },
  {
   "cell_type": "code",
   "execution_count": 135,
   "metadata": {},
   "outputs": [
    {
     "name": "stdout",
     "output_type": "stream",
     "text": [
      "Dog has four legs.\n",
      "Dog is a warm-blooded animal.\n"
     ]
    }
   ],
   "source": [
    "class Mammal(object):\n",
    "  def __init__(self, mammalName):\n",
    "    print(mammalName, 'is a warm-blooded animal.')\n",
    "    \n",
    "class Dog(Mammal):\n",
    "  def __init__(self):\n",
    "    print('Dog has four legs.')\n",
    "    super().__init__('Dog')\n",
    "    \n",
    "d1 = Dog()"
   ]
  },
  {
   "cell_type": "code",
   "execution_count": 4,
   "metadata": {},
   "outputs": [
    {
     "name": "stdout",
     "output_type": "stream",
     "text": [
      "wrong\n"
     ]
    }
   ],
   "source": [
    "if set([3]) & set([3,4,5,6,7]):\n",
    "    print('wrong')"
   ]
  },
  {
   "cell_type": "code",
   "execution_count": 26,
   "metadata": {},
   "outputs": [
    {
     "data": {
      "text/plain": [
       "[1, 2, 3, 4, 5, 6, 7, 8, 9]"
      ]
     },
     "execution_count": 26,
     "metadata": {},
     "output_type": "execute_result"
    }
   ],
   "source": [
    "l = [1,2,3,4,5,6,7,8,9]\n",
    "l2=list(filter(lambda x: x*2,l))\n",
    "l2"
   ]
  },
  {
   "cell_type": "code",
   "execution_count": 15,
   "metadata": {},
   "outputs": [
    {
     "name": "stdout",
     "output_type": "stream",
     "text": [
      "<class 'type'> <class '__main__.singleton'>\n"
     ]
    }
   ],
   "source": [
    "class singleton:\n",
    "    instance = None\n",
    "    def __new__(self,name,age):\n",
    "        if instance != None:\n",
    "            singleton()\n",
    "        return instance\n",
    "ob = singleton('vinod',25)\n",
    "ob.\n",
    "ob2 = singleton\n",
    "print(ob,ob2)"
   ]
  },
  {
   "cell_type": "code",
   "execution_count": 20,
   "metadata": {},
   "outputs": [
    {
     "name": "stdout",
     "output_type": "stream",
     "text": [
      "[2, 4, 6, 8] [1, 3, 5, 7]\n"
     ]
    },
    {
     "data": {
      "text/plain": [
       "[1, 2, 3, 4, 5, 6, 7, 8]"
      ]
     },
     "execution_count": 20,
     "metadata": {},
     "output_type": "execute_result"
    }
   ],
   "source": [
    "l = [1,2,3,4,5,6,7,8]\n",
    "\n",
    "l1 = list(filter(lambda x : x%2==0,l))\n",
    "l2 = list(filter(lambda x : x%2!=0,l))\n",
    "print(l1,l2)\n",
    "l1.extend(l2)\n",
    "l1.sort()\n",
    "l1"
   ]
  },
  {
   "cell_type": "code",
   "execution_count": 30,
   "metadata": {},
   "outputs": [
    {
     "name": "stdout",
     "output_type": "stream",
     "text": [
      "vinod 25 72000\n",
      "172000\n",
      "222000\n",
      "rashmi 25 50000\n",
      "200000\n"
     ]
    }
   ],
   "source": [
    "class Employee:\n",
    "    bonus = 100000\n",
    "    def __init__(self,name,age,pay):\n",
    "        self.name = name\n",
    "        self.age = age\n",
    "        self.pay = pay\n",
    "    \n",
    "    def emp_details(self):\n",
    "        print(self.name,self.age,self.pay)\n",
    "    \n",
    "    def pay_increment(self):\n",
    "        amount = int(self.pay)+self.bonus\n",
    "        print(amount)\n",
    "        \n",
    "    @classmethod\n",
    "    def increase(cls):\n",
    "        cls.bonus = 150000\n",
    "        \n",
    "    @classmethod\n",
    "    def form_string(cls,str_entry):\n",
    "        name,age,pay = str_entry.split('_')\n",
    "        return cls(name,age,pay)\n",
    "\n",
    "ob = Employee('vinod',25,72000)\n",
    "ob.emp_details()\n",
    "ob.pay_increment()\n",
    "Employee.increase()\n",
    "ob.pay_increment()\n",
    "str1 = 'rashmi_25_50000'\n",
    "ob1 = Employee.form_string(str1)\n",
    "ob1.emp_details()\n",
    "ob1.increase()\n",
    "ob1.pay_increment()\n"
   ]
  },
  {
   "cell_type": "code",
   "execution_count": 97,
   "metadata": {},
   "outputs": [
    {
     "name": "stdout",
     "output_type": "stream",
     "text": [
      "<__main__.Single object at 0x00000277CA3C5208>\n"
     ]
    },
    {
     "ename": "Exception",
     "evalue": "This class is a singleton!",
     "output_type": "error",
     "traceback": [
      "\u001b[1;31m---------------------------------------------------------------------------\u001b[0m",
      "\u001b[1;31mException\u001b[0m                                 Traceback (most recent call last)",
      "\u001b[1;32m<ipython-input-97-8b1262c416ea>\u001b[0m in \u001b[0;36m<module>\u001b[1;34m\u001b[0m\n\u001b[0;32m     17\u001b[0m \u001b[0ms\u001b[0m \u001b[1;33m=\u001b[0m \u001b[0mSingle\u001b[0m\u001b[1;33m(\u001b[0m\u001b[1;33m)\u001b[0m\u001b[1;33m\u001b[0m\u001b[1;33m\u001b[0m\u001b[0m\n\u001b[0;32m     18\u001b[0m \u001b[0mprint\u001b[0m\u001b[1;33m(\u001b[0m\u001b[0ms\u001b[0m\u001b[1;33m)\u001b[0m\u001b[1;33m\u001b[0m\u001b[1;33m\u001b[0m\u001b[0m\n\u001b[1;32m---> 19\u001b[1;33m \u001b[0ms\u001b[0m \u001b[1;33m=\u001b[0m \u001b[0mSingle\u001b[0m\u001b[1;33m(\u001b[0m\u001b[1;33m)\u001b[0m\u001b[1;33m\u001b[0m\u001b[1;33m\u001b[0m\u001b[0m\n\u001b[0m\u001b[0;32m     20\u001b[0m \u001b[0mprint\u001b[0m\u001b[1;33m(\u001b[0m\u001b[0ms\u001b[0m\u001b[1;33m)\u001b[0m\u001b[1;33m\u001b[0m\u001b[1;33m\u001b[0m\u001b[0m\n",
      "\u001b[1;32m<ipython-input-97-8b1262c416ea>\u001b[0m in \u001b[0;36m__init__\u001b[1;34m(self)\u001b[0m\n\u001b[0;32m      4\u001b[0m         \u001b[1;34m\"\"\" Virtually private constructor. \"\"\"\u001b[0m\u001b[1;33m\u001b[0m\u001b[1;33m\u001b[0m\u001b[0m\n\u001b[0;32m      5\u001b[0m         \u001b[1;32mif\u001b[0m \u001b[0mself\u001b[0m\u001b[1;33m.\u001b[0m\u001b[0minstance\u001b[0m \u001b[1;33m!=\u001b[0m \u001b[1;32mNone\u001b[0m\u001b[1;33m:\u001b[0m\u001b[1;33m\u001b[0m\u001b[1;33m\u001b[0m\u001b[0m\n\u001b[1;32m----> 6\u001b[1;33m              \u001b[1;32mraise\u001b[0m \u001b[0mException\u001b[0m\u001b[1;33m(\u001b[0m\u001b[1;34m\"This class is a singleton!\"\u001b[0m\u001b[1;33m)\u001b[0m\u001b[1;33m\u001b[0m\u001b[1;33m\u001b[0m\u001b[0m\n\u001b[0m\u001b[0;32m      7\u001b[0m         \u001b[1;32melse\u001b[0m\u001b[1;33m:\u001b[0m\u001b[1;33m\u001b[0m\u001b[1;33m\u001b[0m\u001b[0m\n\u001b[0;32m      8\u001b[0m              \u001b[0mSingle\u001b[0m\u001b[1;33m.\u001b[0m\u001b[0minstance\u001b[0m \u001b[1;33m=\u001b[0m \u001b[0mself\u001b[0m\u001b[1;33m\u001b[0m\u001b[1;33m\u001b[0m\u001b[0m\n",
      "\u001b[1;31mException\u001b[0m: This class is a singleton!"
     ]
    }
   ],
   "source": [
    "class Single:\n",
    "    instance = None\n",
    "    def __init__(self):\n",
    "        \"\"\" Virtually private constructor. \"\"\"\n",
    "        if self.instance != None:\n",
    "             raise Exception(\"This class is a singleton!\")\n",
    "        else:\n",
    "             Single.instance = self\n",
    "    @staticmethod \n",
    "    def getInstance():\n",
    "        if Single.instance == None:\n",
    "            print('wrong')\n",
    "            Single()\n",
    "        print('correct')\n",
    "        return Single.instance\n",
    "   \n",
    "s = Single()\n",
    "print(s)\n",
    "s = Single()\n",
    "print(s)"
   ]
  },
  {
   "cell_type": "code",
   "execution_count": 2,
   "metadata": {},
   "outputs": [
    {
     "name": "stdout",
     "output_type": "stream",
     "text": [
      "<__main__.student object at 0x0000024F905312B0>\n",
      "89777780974\n",
      "marks of the student\n",
      "<__main__.student object at 0x0000024F90531208>\n",
      "89777780974\n"
     ]
    }
   ],
   "source": [
    "class student:\n",
    "    marks = True\n",
    "    mobile = ''\n",
    "    def __init__(self,name):\n",
    "        if self.marks != True:\n",
    "            print('marks of the student')\n",
    "        else:\n",
    "            self.name = name\n",
    "            student.mobile = 89777780974\n",
    "            student.marks = False\n",
    "\n",
    "    @staticmethod\n",
    "    def marks_stu(name):\n",
    "        if student.marks == True:\n",
    "            student(name)\n",
    "        return student.mobile\n",
    "\n",
    "ob = student('vinod')\n",
    "print(ob)\n",
    "ob1 = student.marks_stu('rashmi')\n",
    "print(ob1)\n",
    "ob2 = student('vinod')\n",
    "print(ob2)\n",
    "ob3 = student.marks_stu('rashmi')\n",
    "print(ob3)"
   ]
  },
  {
   "cell_type": "code",
   "execution_count": 151,
   "metadata": {},
   "outputs": [
    {
     "name": "stdout",
     "output_type": "stream",
     "text": [
      "<__main__.singleton object at 0x00000277CA454B38>\n",
      "<__main__.singleton object at 0x00000277CA454B38>\n",
      "<__main__.singleton object at 0x00000277CA454B38>\n",
      "<__main__.singleton object at 0x00000277CA454B38>\n",
      "<__main__.singleton object at 0x00000277CA454B38>\n"
     ]
    }
   ],
   "source": [
    "class singleton:\n",
    "    check = True\n",
    "    def __init__(self):\n",
    "        if self.check != True:\n",
    "            raise('Singleton class can have one instance')\n",
    "        else:\n",
    "            singleton.check = self\n",
    "    @staticmethod       \n",
    "    def getinstance(name):\n",
    "        if singleton.check == True:\n",
    "            singleton()\n",
    "        else:\n",
    "            return singleton.check\n",
    "        \n",
    "    def instance_method(self):\n",
    "        if singleton.check == True:\n",
    "            singleton()\n",
    "        else:\n",
    "            return singleton.check\n",
    "    \n",
    "    @classmethod\n",
    "    def class_method(cls):\n",
    "        if singleton.check == True:\n",
    "            singleton()\n",
    "        else:\n",
    "            return singleton.check\n",
    "\n",
    "ob = singleton()\n",
    "print(ob.getinstance('vinod'))\n",
    "print(ob.instance_method())\n",
    "print(ob.class_method())\n",
    "\n",
    "print(singleton.getinstance('vinod'))\n",
    "#print(singleton.instance_method())\n",
    "print(singleton.class_method())"
   ]
  },
  {
   "cell_type": "code",
   "execution_count": 157,
   "metadata": {},
   "outputs": [
    {
     "name": "stdout",
     "output_type": "stream",
     "text": [
      "vinod False\n",
      "rashmi <__main__.Person object at 0x00000277CA398B38>\n",
      "rashmi 25\n"
     ]
    }
   ],
   "source": [
    "from datetime import date\n",
    "class Person:\n",
    "    def __init__(self,name,age):\n",
    "        self.name = name\n",
    "        self.age = age\n",
    "    \n",
    "    @classmethod\n",
    "    def class_method(cls,name,year):\n",
    "        return cls(name,date.today().year-year)\n",
    "    \n",
    "    @staticmethod\n",
    "    def static_metho(age):\n",
    "        if age>21:\n",
    "            return Person('rashmi',age)\n",
    "        return False\n",
    "\n",
    "p1 = Person('vinod',21)\n",
    "print(p1.name,p1.static_metho(p1.age))\n",
    "p2 = Person.class_method('rashmi',1994)\n",
    "print(p2.name,p2.static_metho(p2.age))\n",
    "\n",
    "p3 = p2.class_method('rashmi',1994)\n",
    "print(p3.name,p3.age)"
   ]
  },
  {
   "cell_type": "code",
   "execution_count": 160,
   "metadata": {},
   "outputs": [
    {
     "data": {
      "text/plain": [
       "False"
      ]
     },
     "execution_count": 160,
     "metadata": {},
     "output_type": "execute_result"
    }
   ],
   "source": [
    "from numpy import NaN\n",
    "a = NaN\n",
    "True if a<100 else False"
   ]
  },
  {
   "cell_type": "markdown",
   "metadata": {},
   "source": [
    "# static method example"
   ]
  },
  {
   "cell_type": "code",
   "execution_count": 206,
   "metadata": {},
   "outputs": [
    {
     "name": "stdout",
     "output_type": "stream",
     "text": [
      "0\n",
      "1 vinod 25\n",
      "2 rashmi 24\n"
     ]
    }
   ],
   "source": [
    "class static_class:\n",
    "    roll_no = 0 \n",
    "    @staticmethod\n",
    "    def sample(name,age):\n",
    "        static_class.roll_no += 1\n",
    "        print(static_class.roll_no,name,age)\n",
    "\n",
    "a = static_class()\n",
    "b = static_class()\n",
    "\n",
    "a.sample('vinod',25)\n",
    "b.sample('rashmi',24)"
   ]
  },
  {
   "cell_type": "code",
   "execution_count": null,
   "metadata": {},
   "outputs": [],
   "source": []
  }
 ],
 "metadata": {
  "kernelspec": {
   "display_name": "Python 3",
   "language": "python",
   "name": "python3"
  },
  "language_info": {
   "codemirror_mode": {
    "name": "ipython",
    "version": 3
   },
   "file_extension": ".py",
   "mimetype": "text/x-python",
   "name": "python",
   "nbconvert_exporter": "python",
   "pygments_lexer": "ipython3",
   "version": "3.7.3"
  }
 },
 "nbformat": 4,
 "nbformat_minor": 2
}
