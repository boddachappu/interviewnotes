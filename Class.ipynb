{
 "cells": [
  {
   "cell_type": "markdown",
   "metadata": {},
   "source": [
    "# Calling constructor from child constructor with Inheritance"
   ]
  },
  {
   "cell_type": "code",
   "execution_count": 181,
   "metadata": {},
   "outputs": [
    {
     "name": "stdout",
     "output_type": "stream",
     "text": [
      "u r in C constr\n",
      " u r in parent class\n"
     ]
    }
   ],
   "source": [
    "\n",
    "class A():\n",
    "    def __init__(self,age,name):\n",
    "        self.name = name\n",
    "        print(' u r in parent class')\n",
    "class B(A):\n",
    "    def dummy(self,age,name):\n",
    "        self.age = age\n",
    "        self.name = name\n",
    "        print('u r in class B')\n",
    "        #A.__init__(self,name)\n",
    "\n",
    "#when we call parent class from child using super it will check the first occurance of init and then stops going to other parent\n",
    "class C(B,A):\n",
    "    def __init__(self,name):\n",
    "        print('u r in C constr')\n",
    "        self.name = name\n",
    "        self.salary = 20000\n",
    "        age = 20\n",
    "        super().__init__(age,name)\n",
    "\n",
    "ob = C('IT')  "
   ]
  },
  {
   "cell_type": "code",
   "execution_count": 4,
   "metadata": {},
   "outputs": [
    {
     "name": "stdout",
     "output_type": "stream",
     "text": [
      "no\n",
      "root parent\n",
      "in class A\n",
      "vinod\n",
      "raju\n"
     ]
    }
   ],
   "source": [
    "class X:\n",
    "    x=10\n",
    "    print('no')\n",
    "class Z:\n",
    "    print('root parent')\n",
    "class A(Z):\n",
    "    Av = 'raju'\n",
    "    def __init__(self,a):\n",
    "        print('in class A')\n",
    "        print(a)\n",
    "\n",
    "class B(A):\n",
    "    def ex():\n",
    "        super.__init__(self,a)\n",
    "ob = B('vinod')\n",
    "print(A.Av)"
   ]
  },
  {
   "cell_type": "raw",
   "metadata": {},
   "source": [
    "from logging import getLogger\n",
    "logger = getLogger()\n",
    "def ex(a,b):\n",
    "    z = a==b\n",
    "    print('z',z)\n",
    "    if a==b:\n",
    "        print(a,b)\n",
    "    else:\n",
    "        print(a)\n",
    "    if a:\n",
    "        print(a,'a')\n",
    "    else:\n",
    "        print(b)\n",
    "\n",
    "ex(2,2)"
   ]
  },
  {
   "cell_type": "markdown",
   "metadata": {},
   "source": [
    "# Yeild keyword with multiple occurances"
   ]
  },
  {
   "cell_type": "code",
   "execution_count": 4,
   "metadata": {},
   "outputs": [
    {
     "name": "stdout",
     "output_type": "stream",
     "text": [
      "(1, 'first')\n",
      "(2, 'second')\n"
     ]
    }
   ],
   "source": [
    "def prin():\n",
    "    l = 1\n",
    "    yield l,'first'\n",
    "    l2 = 2    \n",
    "    yield l2,'second'\n",
    "z = prin()\n",
    "print(next(z))\n",
    "print(next(z))"
   ]
  },
  {
   "cell_type": "markdown",
   "metadata": {},
   "source": [
    "# Generator example to put 0-100 values in to two lists "
   ]
  },
  {
   "cell_type": "code",
   "execution_count": 23,
   "metadata": {},
   "outputs": [
    {
     "name": "stdout",
     "output_type": "stream",
     "text": [
      "[0, 1, 2, 3, 4, 5, 6, 7, 8, 9, 10, 11, 12, 13, 14, 15, 16, 17, 18, 19, 20, 21, 22, 23, 24, 25, 26, 27, 28, 29, 30, 31, 32, 33, 34, 35, 36, 37, 38, 39, 40, 41, 42, 43, 44, 45, 46, 47, 48, 49]\n",
      "[50, 51, 52, 53, 54, 55, 56, 57, 58, 59, 60, 61, 62, 63, 64, 65, 66, 67, 68, 69, 70, 71, 72, 73, 74, 75, 76, 77, 78, 79, 80, 81, 82, 83, 84, 85, 86, 87, 88, 89, 90, 91, 92, 93, 94, 95, 96, 97, 98, 99]\n"
     ]
    }
   ],
   "source": [
    "l = []\n",
    "l2 = []\n",
    "def gen():\n",
    "    for i in range(0,100):\n",
    "        yield i\n",
    "o=gen()\n",
    "for i in range(0,50):\n",
    "    l.append(next(o))\n",
    "print(l)\n",
    "for i in range(0,50):\n",
    "    l2.append(next(o))\n",
    "print(l2)"
   ]
  },
  {
   "cell_type": "code",
   "execution_count": 112,
   "metadata": {},
   "outputs": [
    {
     "name": "stdout",
     "output_type": "stream",
     "text": [
      "1\n",
      "2\n",
      "3\n",
      "4\n",
      "5\n",
      "6\n",
      "7\n",
      "8\n",
      "9\n",
      "10\n"
     ]
    }
   ],
   "source": [
    "def AP(a1, d, size):\n",
    "    count = 1\n",
    "    while count <= size:\n",
    "        yield a1\n",
    "        a1 += d\n",
    "        count += 1\n",
    "\n",
    "for ele in AP(1, 1, 10):\n",
    "    print(ele)"
   ]
  },
  {
   "cell_type": "code",
   "execution_count": 60,
   "metadata": {},
   "outputs": [
    {
     "name": "stdout",
     "output_type": "stream",
     "text": [
      "1\n",
      "3\n",
      "5\n",
      "7\n",
      "9\n",
      "11\n",
      "13\n",
      "15\n",
      "17\n",
      "19\n"
     ]
    }
   ],
   "source": [
    "class AP:\n",
    "    def __init__(self, a1, d, size):\n",
    "        self.ele = a1\n",
    "        self.diff = d\n",
    "        self.len = size\n",
    "        self.count = 0\n",
    "\n",
    "    def __iter__(self):\n",
    "        return self\n",
    "\n",
    "    def __next__(self): \n",
    "        if self.count >= self.len:\n",
    "            raise StopIteration\n",
    "        elif self.count == 0:\n",
    "            self.count += 1\n",
    "            return self.ele\n",
    "        else:\n",
    "            self.count += 1\n",
    "            self.ele += self.diff\n",
    "            return self.ele\n",
    "\n",
    "for ele in AP(1, 2, 10):\n",
    "    print(ele)"
   ]
  },
  {
   "cell_type": "markdown",
   "metadata": {},
   "source": [
    "# To read a huge file with the help of generators"
   ]
  },
  {
   "cell_type": "code",
   "execution_count": 196,
   "metadata": {},
   "outputs": [
    {
     "name": "stdout",
     "output_type": "stream",
     "text": [
      "['\\n', '🏠PythonSeleniumQAAgileAngularSQLJavaLinuxCC#WebPHPAndroid\\n']\n",
      "['Python Generator Tutorial for Beginners\\n']\n",
      "['\\n', ' \\n']\n",
      "['Python Tutorials | By Meenakshi Agarwal\\n']\n",
      "['This tutorial should help you learn, create and use Python Generator functions and expressions. It also covers some essential facts such as why and when to use them in programs, and what makes a generator different from an iterator and a regular function.\\n']\n"
     ]
    }
   ],
   "source": [
    "def read_file():\n",
    "    with open('filename.txt','r',encoding='utf-8') as fp:\n",
    "        while True:\n",
    "            yield fp.readlines(1)\n",
    "ob = read_file()\n",
    "for i in range(5):\n",
    "    print(next(ob))"
   ]
  },
  {
   "cell_type": "code",
   "execution_count": 76,
   "metadata": {},
   "outputs": [
    {
     "name": "stdout",
     "output_type": "stream",
     "text": [
      "© 2019 TechBeamers.com\n",
      "☛ Contact Us\n",
      "\n",
      "☛ Disclaimer\n",
      "\n",
      "☛ Privacy Policy\n",
      "\n",
      "☛ About Us\n",
      "\n",
      "Quick Info\n",
      "\n",
      "PHP Interview Questions-2\n",
      "\n",
      "PHP Interview Questions-1\n",
      "\n",
      "HTML Interview Questions\n",
      "\n",
      "NodeJS Interview Questions\n",
      "\n"
     ]
    }
   ],
   "source": [
    "#to print last 50 lines in a file using generators\n",
    "data=[]\n",
    "with open('filename.txt','r',encoding='utf-8') as fp:\n",
    "    data += fp.readlines()\n",
    "\n",
    "leng = len(data)\n",
    "\n",
    "def fileread(leng,step,lines):\n",
    "    c = 0\n",
    "    while c != lines:\n",
    "        yield data[leng-1]\n",
    "        leng -= step\n",
    "        c +=1\n",
    "    \n",
    "for line in fileread(leng,1,10):\n",
    "    print(line)"
   ]
  },
  {
   "cell_type": "code",
   "execution_count": 127,
   "metadata": {},
   "outputs": [
    {
     "name": "stdout",
     "output_type": "stream",
     "text": [
      "Bananatruck Truck driving slowly because heavily loaded.\n",
      "Orangetruck Truck driving slowly because heavily loaded.\n",
      "Z3 Sportscar driving!\n"
     ]
    }
   ],
   "source": [
    "class Car:\n",
    "    def __init__(self, name):\n",
    "        self.name = name\n",
    "    \n",
    "    def drive(self):\n",
    "        raise NotImplementedError(\"Subclass must implement abstract method\")\n",
    "\n",
    "    def stop(self):\n",
    "        raise NotImplementedError(\"Subclass must implement abstract method\")\n",
    "    \n",
    "class Sportscar(Car):\n",
    "    def drive(self):\n",
    "        return 'Sportscar driving!'\n",
    "\n",
    "    def stop(self):\n",
    "        return 'Sportscar braking!'\n",
    "    \n",
    "class Truck(Car):\n",
    "    def drive(self):\n",
    "        return 'Truck driving slowly because heavily loaded.'\n",
    "\n",
    "    def stop(self):\n",
    "        return 'Truck braking!'\n",
    "\n",
    "cars = [Truck('Bananatruck'),\n",
    "Truck('Orangetruck'),\n",
    "Sportscar('Z3')]\n",
    "\n",
    "for car in cars:\n",
    "    print(car.name,car.drive())"
   ]
  },
  {
   "cell_type": "code",
   "execution_count": 135,
   "metadata": {},
   "outputs": [
    {
     "name": "stdout",
     "output_type": "stream",
     "text": [
      "Dog has four legs.\n",
      "Dog is a warm-blooded animal.\n"
     ]
    }
   ],
   "source": [
    "class Mammal(object):\n",
    "  def __init__(self, mammalName):\n",
    "    print(mammalName, 'is a warm-blooded animal.')\n",
    "    \n",
    "class Dog(Mammal):\n",
    "  def __init__(self):\n",
    "    print('Dog has four legs.')\n",
    "    super().__init__('Dog')\n",
    "    \n",
    "d1 = Dog()"
   ]
  },
  {
   "cell_type": "code",
   "execution_count": 151,
   "metadata": {},
   "outputs": [
    {
     "name": "stdout",
     "output_type": "stream",
     "text": [
      "<__main__.singleton object at 0x00000277CA454B38>\n",
      "<__main__.singleton object at 0x00000277CA454B38>\n",
      "<__main__.singleton object at 0x00000277CA454B38>\n",
      "<__main__.singleton object at 0x00000277CA454B38>\n",
      "<__main__.singleton object at 0x00000277CA454B38>\n"
     ]
    }
   ],
   "source": [
    "class singleton:\n",
    "    check = True\n",
    "    def __init__(self):\n",
    "        if self.check != True:\n",
    "            raise('Singleton class can have one instance')\n",
    "        else:\n",
    "            singleton.check = self\n",
    "    @staticmethod       \n",
    "    def getinstance(name):\n",
    "        if singleton.check == True:\n",
    "            singleton()\n",
    "        else:\n",
    "            return singleton.check\n",
    "        \n",
    "    def instance_method(self):\n",
    "        if singleton.check == True:\n",
    "            singleton()\n",
    "        else:\n",
    "            return singleton.check\n",
    "    \n",
    "    @classmethod\n",
    "    def class_method(cls):\n",
    "        if singleton.check == True:\n",
    "            singleton()\n",
    "        else:\n",
    "            return singleton.check\n",
    "\n",
    "ob = singleton()\n",
    "print(ob.getinstance('vinod'))\n",
    "print(ob.instance_method())\n",
    "print(ob.class_method())\n",
    "\n",
    "print(singleton.getinstance('vinod'))\n",
    "#print(singleton.instance_method())\n",
    "print(singleton.class_method())"
   ]
  },
  {
   "cell_type": "markdown",
   "metadata": {},
   "source": [
    "# singleton using new method"
   ]
  },
  {
   "cell_type": "code",
   "execution_count": 3,
   "metadata": {},
   "outputs": [
    {
     "name": "stdout",
     "output_type": "stream",
     "text": [
      "2024652181808\n",
      "vinod\n",
      "2024652181808\n",
      "rashmi\n"
     ]
    }
   ],
   "source": [
    "class Singleton:\n",
    "    __instance = None\n",
    "    def __new__(cls):\n",
    "        if cls.__instance is None:\n",
    "            cls.__instance = super(Singleton, cls).__new__(cls)\n",
    "            return cls.__instance\n",
    "        return cls.__instance\n",
    "    \n",
    "    def __init__(self):\n",
    "        self.value = None\n",
    "    \n",
    "    def check(self, name):\n",
    "        self.value = name\n",
    "        return self.value\n",
    "    \n",
    "ob = Singleton()\n",
    "print(id(ob))\n",
    "print(ob.check('vinod'))\n",
    "ob2 = Singleton()\n",
    "print(id(ob2))\n",
    "print(ob.check('rashmi'))"
   ]
  }
 ],
 "metadata": {
  "kernelspec": {
   "display_name": "Python 3 (ipykernel)",
   "language": "python",
   "name": "python3"
  },
  "language_info": {
   "codemirror_mode": {
    "name": "ipython",
    "version": 3
   },
   "file_extension": ".py",
   "mimetype": "text/x-python",
   "name": "python",
   "nbconvert_exporter": "python",
   "pygments_lexer": "ipython3",
   "version": "3.9.13"
  }
 },
 "nbformat": 4,
 "nbformat_minor": 2
}
