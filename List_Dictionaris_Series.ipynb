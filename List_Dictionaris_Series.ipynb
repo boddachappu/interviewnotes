{
 "cells": [
  {
   "cell_type": "code",
   "execution_count": 5,
   "metadata": {},
   "outputs": [
    {
     "data": {
      "text/plain": [
       "False"
      ]
     },
     "execution_count": 5,
     "metadata": {},
     "output_type": "execute_result"
    }
   ],
   "source": [
    "l = {'rrc_conn_num': None, 'dl_ue_throughput_num': None, 'rrc_conn_den': None, 'ul_ue_throughput_den': None, 'dl_prb_util_num': None, 'rrc_estab_succ': None, 'dl_ue_throughput_den': None, 'pdcch_den': None, 'duration': None, 'pdcch_num': None, 'ul_ue_throughput_num': None, 'rrc_estab_att': None, 'dl_prb_util_den': None}\n",
    "a = any(l.values())\n",
    "a"
   ]
  },
  {
   "cell_type": "code",
   "execution_count": 10,
   "metadata": {},
   "outputs": [
    {
     "name": "stdout",
     "output_type": "stream",
     "text": [
      "hi dog\n"
     ]
    }
   ],
   "source": [
    "class A:\n",
    "    def __init__(self,name):\n",
    "        print('hi', name)\n",
    "class B(A):\n",
    "    def __init__(self,name):\n",
    "        super().__init__(name)\n",
    "ob = B('dog')"
   ]
  },
  {
   "cell_type": "markdown",
   "metadata": {},
   "source": [
    "# Threading code snippet"
   ]
  },
  {
   "cell_type": "markdown",
   "metadata": {},
   "source": [
    "## threading.Event()\n",
    "A factory function that returns a new event object. An event manages a flag that can be set to true with the set() method and reset to false with the clear() method. The wait() method blocks until the flag is true."
   ]
  },
  {
   "cell_type": "code",
   "execution_count": 170,
   "metadata": {},
   "outputs": [
    {
     "name": "stdout",
     "output_type": "stream",
     "text": [
      "0\n",
      "1\n",
      "2\n",
      "3\n",
      "4\n",
      "5\n",
      "6\n",
      "7\n",
      "8\n",
      "9\n"
     ]
    }
   ],
   "source": [
    "import threading\n",
    "\n",
    "class Evenodd(threading.Thread):\n",
    "    def __init__(self,start1,end1,step,set_event,clear_event):\n",
    "        threading.Thread.__init__(self)\n",
    "        self.start1 = start1\n",
    "        self.end1 = end1\n",
    "        self.step = step\n",
    "        self.set_event = set_event\n",
    "        self.clear_event = clear_event\n",
    "    def run(self):\n",
    "        for i in range(self.start1,self.end1,self.step):\n",
    "            print(i)\n",
    "            self.set_event.set()\n",
    "            self.clear_event.clear()\n",
    "            self.clear_event.wait()\n",
    "\n",
    "t1_even = threading.Event()\n",
    "t2_even = threading.Event()\n",
    "\n",
    "t1 = Evenodd(0, 10, 2,t1_even, t2_even)\n",
    "t2 = Evenodd(1, 10, 2,t2_even, t1_even)\n",
    "\n",
    "t1.start()\n",
    "t2.start()"
   ]
  },
  {
   "cell_type": "markdown",
   "metadata": {},
   "source": [
    "# Multiprocessing code snippet"
   ]
  },
  {
   "cell_type": "code",
   "execution_count": 5,
   "metadata": {},
   "outputs": [
    {
     "name": "stdout",
     "output_type": "stream",
     "text": [
      "None\n"
     ]
    }
   ],
   "source": [
    "import multiprocessing\n",
    "\n",
    "def calc_square(number):\n",
    "    print('Square' , number * number)\n",
    "    result = number * number\n",
    "    print(result)\n",
    "def calc_quad(number):\n",
    "    print('Quad' , number * number * number * number)\n",
    "if __name__ == \"__main__\":\n",
    "    number = 7\n",
    "    p1 = multiprocessing.Process(target=calc_square, args=(number,))\n",
    "    p2 = multiprocessing.Process(target=calc_quad, args=(number,))\n",
    "    p1.start()\n",
    "    p2.start()\n",
    "    p1.join()\n",
    "    p2.join()          \n",
    "    print(result)"
   ]
  },
  {
   "cell_type": "markdown",
   "metadata": {},
   "source": [
    "# Pandas Series few examples"
   ]
  },
  {
   "cell_type": "code",
   "execution_count": 55,
   "metadata": {},
   "outputs": [
    {
     "data": {
      "text/plain": [
       "Index(['a', 'b', 'c', 'e', 'd', 'f', 'g', 'h', 'i', 'j', 'k', 'l', 'm', 'n',\n",
       "       'o', 'p', 'q', 'r', 's', 't', 'u', 'v', 'w', 'x', 'y', 'z'],\n",
       "      dtype='object')"
      ]
     },
     "execution_count": 55,
     "metadata": {},
     "output_type": "execute_result"
    }
   ],
   "source": [
    "import pandas as pd\n",
    "import numpy as np\n",
    "mylist = list('abcedfghijklmnopqrstuvwxyz')\n",
    "myarr = np.arange(26)\n",
    "mydict = dict(zip(mylist, myarr))\n",
    "ser = pd.Series(mydict)\n",
    "ser.index\n",
    "df = pd.DataFrame(data=[],columns=[ser.index])\n",
    "ser.index"
   ]
  },
  {
   "cell_type": "code",
   "execution_count": 61,
   "metadata": {},
   "outputs": [
    {
     "data": {
      "text/html": [
       "<div>\n",
       "<style scoped>\n",
       "    .dataframe tbody tr th:only-of-type {\n",
       "        vertical-align: middle;\n",
       "    }\n",
       "\n",
       "    .dataframe tbody tr th {\n",
       "        vertical-align: top;\n",
       "    }\n",
       "\n",
       "    .dataframe thead th {\n",
       "        text-align: right;\n",
       "    }\n",
       "</style>\n",
       "<table border=\"1\" class=\"dataframe\">\n",
       "  <thead>\n",
       "    <tr style=\"text-align: right;\">\n",
       "      <th></th>\n",
       "      <th>0</th>\n",
       "      <th>1</th>\n",
       "      <th>2</th>\n",
       "      <th>3</th>\n",
       "      <th>4</th>\n",
       "      <th>5</th>\n",
       "      <th>6</th>\n",
       "      <th>7</th>\n",
       "      <th>8</th>\n",
       "      <th>9</th>\n",
       "      <th>...</th>\n",
       "      <th>16</th>\n",
       "      <th>17</th>\n",
       "      <th>18</th>\n",
       "      <th>19</th>\n",
       "      <th>20</th>\n",
       "      <th>21</th>\n",
       "      <th>22</th>\n",
       "      <th>23</th>\n",
       "      <th>24</th>\n",
       "      <th>25</th>\n",
       "    </tr>\n",
       "  </thead>\n",
       "  <tbody>\n",
       "    <tr>\n",
       "      <th>0</th>\n",
       "      <td>a</td>\n",
       "      <td>b</td>\n",
       "      <td>c</td>\n",
       "      <td>e</td>\n",
       "      <td>d</td>\n",
       "      <td>f</td>\n",
       "      <td>g</td>\n",
       "      <td>h</td>\n",
       "      <td>i</td>\n",
       "      <td>j</td>\n",
       "      <td>...</td>\n",
       "      <td>q</td>\n",
       "      <td>r</td>\n",
       "      <td>s</td>\n",
       "      <td>t</td>\n",
       "      <td>u</td>\n",
       "      <td>v</td>\n",
       "      <td>w</td>\n",
       "      <td>x</td>\n",
       "      <td>y</td>\n",
       "      <td>z</td>\n",
       "    </tr>\n",
       "    <tr>\n",
       "      <th>1</th>\n",
       "      <td>0</td>\n",
       "      <td>1</td>\n",
       "      <td>2</td>\n",
       "      <td>3</td>\n",
       "      <td>4</td>\n",
       "      <td>5</td>\n",
       "      <td>6</td>\n",
       "      <td>7</td>\n",
       "      <td>8</td>\n",
       "      <td>9</td>\n",
       "      <td>...</td>\n",
       "      <td>16</td>\n",
       "      <td>17</td>\n",
       "      <td>18</td>\n",
       "      <td>19</td>\n",
       "      <td>20</td>\n",
       "      <td>21</td>\n",
       "      <td>22</td>\n",
       "      <td>23</td>\n",
       "      <td>24</td>\n",
       "      <td>25</td>\n",
       "    </tr>\n",
       "  </tbody>\n",
       "</table>\n",
       "<p>2 rows × 26 columns</p>\n",
       "</div>"
      ],
      "text/plain": [
       "  0  1  2  3  4  5  6  7  8  9   ...  16  17  18  19  20  21  22  23  24  25\n",
       "0  a  b  c  e  d  f  g  h  i  j  ...   q   r   s   t   u   v   w   x   y   z\n",
       "1  0  1  2  3  4  5  6  7  8  9  ...  16  17  18  19  20  21  22  23  24  25\n",
       "\n",
       "[2 rows x 26 columns]"
      ]
     },
     "execution_count": 61,
     "metadata": {},
     "output_type": "execute_result"
    }
   ],
   "source": [
    "import numpy as np\n",
    "ser1 = pd.Series(list('abcedfghijklmnopqrstuvwxyz'))\n",
    "ser2 = pd.Series(np.arange(26))\n",
    "df = pd.DataFrame(data=[ser1,ser2])\n",
    "df"
   ]
  },
  {
   "cell_type": "code",
   "execution_count": 70,
   "metadata": {},
   "outputs": [
    {
     "data": {
      "text/plain": [
       "0     5\n",
       "1     7\n",
       "2     9\n",
       "3    11\n",
       "4    13\n",
       "dtype: int64"
      ]
     },
     "execution_count": 70,
     "metadata": {},
     "output_type": "execute_result"
    }
   ],
   "source": [
    "ser1 = pd.Series([1, 2, 3, 4, 5])\n",
    "ser2 = pd.Series([4, 5, 6, 7, 8])\n",
    "ser3 = ser1[~ser1.isin(ser2)]\n"
   ]
  },
  {
   "cell_type": "code",
   "execution_count": 75,
   "metadata": {},
   "outputs": [
    {
     "data": {
      "text/plain": [
       "0    1\n",
       "1    2\n",
       "2    3\n",
       "5    6\n",
       "6    7\n",
       "7    8\n",
       "dtype: int64"
      ]
     },
     "execution_count": 75,
     "metadata": {},
     "output_type": "execute_result"
    }
   ],
   "source": [
    "seru = pd.Series(np.union1d(ser1,ser2))\n",
    "seru = seru[~seru.isin(pd.Series(np.intersect1d(ser1,ser2)))]\n",
    "seru"
   ]
  },
  {
   "cell_type": "markdown",
   "metadata": {},
   "source": [
    "# Dictionary merging, sorting based on keys and values"
   ]
  },
  {
   "cell_type": "code",
   "execution_count": 14,
   "metadata": {},
   "outputs": [
    {
     "name": "stdout",
     "output_type": "stream",
     "text": [
      "Merging two dictionaries {'a': 1, 'c': 2, 'b': 3, 'x': 1, 'e': 2, 'f': 3}\n",
      "sort based on values {'a': 1, 'x': 1, 'c': 2, 'e': 2, 'b': 3, 'f': 3}\n",
      "sort based on keys {'a': 1, 'b': 3, 'c': 2, 'e': 2, 'f': 3, 'x': 1}\n"
     ]
    }
   ],
   "source": [
    "d = dict(zip(['a','c','b'],[1,2,3]))\n",
    "d1 = dict(zip(['x','e','f'],[1,2,3]))\n",
    "#merging two dictionaries\n",
    "d.update(d1)\n",
    "print('Merging two dictionaries',d)\n",
    "e = dict(sorted(d.items(),key=lambda x : x[1]))\n",
    "print('sort based on values', e)\n",
    "e = dict(sorted(d.items()))\n",
    "e = dict(sorted(d.items(),key=lambda x : x[0]))\n",
    "print('sort based on keys', e)"
   ]
  },
  {
   "cell_type": "markdown",
   "metadata": {},
   "source": [
    "# List merging, sorting list of tuples"
   ]
  },
  {
   "cell_type": "code",
   "execution_count": 56,
   "metadata": {},
   "outputs": [
    {
     "name": "stdout",
     "output_type": "stream",
     "text": [
      "sort list of tuples based on index in tuple [('a', 1, 'vinod'), ('c', 2, 'vinod2'), ('b', 8, 'vinod3'), ('e', 10, 'vinod1')]\n",
      "merging two lists [('a', 1, 'vinod'), ('e', 10, 'vinod1'), ('c', 2, 'vinod2'), ('b', 8, 'vinod3'), 1, 2, 5, 3, 34, 5, 7, 1, 2]\n",
      "list of values [1, 1, 2, 2, 3, 5, 5, 7, 34]\n"
     ]
    }
   ],
   "source": [
    "l = [('a',1,'vinod'),('e',10,'vinod1'),('c',2,'vinod2'),('b',8,'vinod3')]\n",
    "ls = sorted(l,key = lambda x:x[1])\n",
    "print('sort list of tuples based on index in tuple',ls)\n",
    "l1 = [1,2,5,3,34,5,7,1,2]\n",
    "l.extend(l1)\n",
    "print('merging two lists',l)\n",
    "lsl = sorted(l1 , key = lambda x : x)\n",
    "print('list of values',lsl)"
   ]
  },
  {
   "cell_type": "markdown",
   "metadata": {},
   "source": [
    "# Lambda inline function code snippets"
   ]
  },
  {
   "cell_type": "code",
   "execution_count": 63,
   "metadata": {},
   "outputs": [
    {
     "name": "stdout",
     "output_type": "stream",
     "text": [
      "data type of square is <class 'int'>\n",
      "data type of square is <class 'function'>\n",
      "passing only one arg to lambda 25\n",
      "passing two arg to lambda 0.5\n",
      "passing two arg to lambda 1.0\n"
     ]
    }
   ],
   "source": [
    "square = 10\n",
    "print('data type of square is',type(square))\n",
    "square = lambda x : x*x\n",
    "print('data type of square is',type(square))\n",
    "print('passing only one arg to lambda',square(5))\n",
    "two = lambda x,y : x/y\n",
    "print('passing two arg to lambda',two(5,10))\n",
    "two = lambda x,y,z : (x/y)+z\n",
    "print('passing three arg to lambda',two(5,10,.5))"
   ]
  },
  {
   "cell_type": "code",
   "execution_count": 73,
   "metadata": {},
   "outputs": [
    {
     "name": "stdout",
     "output_type": "stream",
     "text": [
      "David\n",
      "Alex\n",
      "Amanda\n"
     ]
    }
   ],
   "source": [
    "class Employee:\n",
    "    def __init__(self, name, age):\n",
    "        self.name = name\n",
    "        self.age = age\n",
    "Alex = Employee('Alex', 20)\n",
    "Amanda = Employee('Amanda', 30)\n",
    "David = Employee('David', 15)\n",
    "L = [Alex, Amanda, David]\n",
    "n = sorted(L,key = lambda x : x.age)\n",
    "for i in n:\n",
    "    print(i.name)"
   ]
  },
  {
   "cell_type": "markdown",
   "metadata": {},
   "source": [
    "# sorting list of tuple based on index with help of sorted and sort keyword"
   ]
  },
  {
   "cell_type": "code",
   "execution_count": 8,
   "metadata": {},
   "outputs": [
    {
     "data": {
      "text/plain": [
       "[('vinod', 26, 70000), ('rashmi', 25, 50000), ('chaitu', 24, 18000)]"
      ]
     },
     "execution_count": 8,
     "metadata": {},
     "output_type": "execute_result"
    }
   ],
   "source": [
    "x = [('vinod',26,70000),('rashmi',25,50000),('chaitu',24,18000)]\n",
    "y = sorted(x,key = lambda x : x[2], reverse=False)\n",
    "x.sort(key = lambda x: x[1],reverse=True)"
   ]
  },
  {
   "cell_type": "code",
   "execution_count": 80,
   "metadata": {},
   "outputs": [
    {
     "name": "stdout",
     "output_type": "stream",
     "text": [
      "{1: ['vinod', 'vinod2'], 3: ['vinod3', 'vinod4', 'vinod5', 'vinod6'], 2: ['vinod7']}\n"
     ]
    }
   ],
   "source": [
    "d = {'vinod':1,'vinod2':1,'vinod3':3,'vinod4':3,'vinod5':3,'vinod6':3,'vinod7':2}\n",
    "d2 = {}\n",
    "l = []\n",
    "for key , value in d.items():\n",
    "    if value not in d2.keys():\n",
    "        d2[value] = [key]\n",
    "    else:\n",
    "        l,z = [],[] \n",
    "        l,z = d2[value],[key]\n",
    "        l.extend(z)\n",
    "        d2[value] = l\n",
    "print(d2)"
   ]
  },
  {
   "cell_type": "code",
   "execution_count": 83,
   "metadata": {},
   "outputs": [],
   "source": [
    "from collections import defaultdict\n",
    "d = {'vinod':1,'vinod2':1,'vinod3':3,'vinod4':3,'vinod5':3,'vinod6':3,'vinod7':2}\n",
    "d2 = defaultdict()\n",
    "for key, value in d.items():\n",
    "    if value not in d2.keys():\n",
    "        d2[value] = [key]\n",
    "    else:\n",
    "        d2[value] = d2."
   ]
  },
  {
   "cell_type": "code",
   "execution_count": 120,
   "metadata": {},
   "outputs": [
    {
     "name": "stdout",
     "output_type": "stream",
     "text": [
      "[5, 4, 3, 2] 14\n",
      "[1, 2, 3, 4] 10\n"
     ]
    }
   ],
   "source": [
    "i = [2,5,1,3,4]\n",
    "i.sort(reverse=True)\n",
    "print(i[0:4],sum(i[0:4]))\n",
    "print(i[::-1][0:4],sum(i[::-1][0:4]))\n",
    "#min_i = i.sort()[0:3]\n",
    "#print(max_i,min_i)"
   ]
  },
  {
   "cell_type": "code",
   "execution_count": null,
   "metadata": {},
   "outputs": [],
   "source": []
  }
 ],
 "metadata": {
  "kernelspec": {
   "display_name": "Python 3",
   "language": "python",
   "name": "python3"
  },
  "language_info": {
   "codemirror_mode": {
    "name": "ipython",
    "version": 3
   },
   "file_extension": ".py",
   "mimetype": "text/x-python",
   "name": "python",
   "nbconvert_exporter": "python",
   "pygments_lexer": "ipython3",
   "version": "3.7.3"
  }
 },
 "nbformat": 4,
 "nbformat_minor": 2
}
