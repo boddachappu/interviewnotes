{
 "cells": [
  {
   "cell_type": "markdown",
   "metadata": {},
   "source": [
    "## Shallow & Deep Copy\n",
    "For mutable:\n",
    "Assignment operator: Reference is copied. New variable will point to original object. So whenever changes are made, its reflected\n",
    "Shallow copy: New object is created(Obviously address should be new) and outer list is copied. Innerlist will still be a reference. So only changes in innerlist is reflected\n",
    "\n",
    "Deep copy: New object is created(Obviously address should be new)  and every item (outer and inner) is recursively copied. So no changes will reflect.\n",
    "For immutable:\n",
    "Copies aren’t valid on immutable as they are immutable :P\n",
    "\n",
    "All 3 types will behave as one. i.e shallow/deep copy will behave as assignment operator. Address will be same.\n",
    "PASS BY REFERENCE:\n",
    "It behaves like an assignment operator:\n",
    "def reassign(l):\n",
    "    l.append(6)\n",
    "li = [0]\n",
    "reassign(li)\n",
    "It behaves as if l = li i.e just reference is passed\n",
    "So you can say, its pass by reference"
   ]
  },
  {
   "cell_type": "code",
   "execution_count": null,
   "metadata": {},
   "outputs": [],
   "source": []
  }
 ],
 "metadata": {
  "kernelspec": {
   "display_name": "Python 3",
   "language": "python",
   "name": "python3"
  },
  "language_info": {
   "codemirror_mode": {
    "name": "ipython",
    "version": 3
   },
   "file_extension": ".py",
   "mimetype": "text/x-python",
   "name": "python",
   "nbconvert_exporter": "python",
   "pygments_lexer": "ipython3",
   "version": "3.7.0"
  }
 },
 "nbformat": 4,
 "nbformat_minor": 2
}
